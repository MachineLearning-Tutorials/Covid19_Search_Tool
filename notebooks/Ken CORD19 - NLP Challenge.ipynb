{
 "cells": [
  {
   "cell_type": "markdown",
   "metadata": {
    "colab_type": "text",
    "id": "cepc_sQETKhK"
   },
   "source": [
    "### Import libraries\n"
   ]
  },
  {
   "cell_type": "code",
   "execution_count": 2,
   "metadata": {},
   "outputs": [
    {
     "name": "stdout",
     "output_type": "stream",
     "text": [
      "Collecting pandas\n",
      "\u001b[?25l  Downloading https://files.pythonhosted.org/packages/bb/71/8f53bdbcbc67c912b888b40def255767e475402e9df64050019149b1a943/pandas-1.0.3-cp36-cp36m-manylinux1_x86_64.whl (10.0MB)\n",
      "\u001b[K     |████████████████████████████████| 10.0MB 1.1MB/s eta 0:00:01\n",
      "\u001b[?25hRequirement already satisfied: python-dateutil>=2.6.1 in /usr/local/lib/python3.6/dist-packages (from pandas) (2.8.1)\n",
      "Requirement already satisfied: numpy>=1.13.3 in /usr/local/lib/python3.6/dist-packages (from pandas) (1.18.1)\n",
      "Collecting pytz>=2017.2\n",
      "\u001b[?25l  Downloading https://files.pythonhosted.org/packages/e7/f9/f0b53f88060247251bf481fa6ea62cd0d25bf1b11a87888e53ce5b7c8ad2/pytz-2019.3-py2.py3-none-any.whl (509kB)\n",
      "\u001b[K     |████████████████████████████████| 512kB 26.5MB/s eta 0:00:01\n",
      "\u001b[?25hRequirement already satisfied: six>=1.5 in /usr/lib/python3/dist-packages (from python-dateutil>=2.6.1->pandas) (1.11.0)\n",
      "Installing collected packages: pytz, pandas\n",
      "Successfully installed pandas-1.0.3 pytz-2019.3\n",
      "\u001b[33mWARNING: You are using pip version 19.3.1; however, version 20.0.2 is available.\n",
      "You should consider upgrading via the 'pip install --upgrade pip' command.\u001b[0m\n",
      "Collecting requests\n",
      "\u001b[?25l  Downloading https://files.pythonhosted.org/packages/1a/70/1935c770cb3be6e3a8b78ced23d7e0f3b187f5cbfab4749523ed65d7c9b1/requests-2.23.0-py2.py3-none-any.whl (58kB)\n",
      "\u001b[K     |████████████████████████████████| 61kB 954kB/s eta 0:00:011\n",
      "\u001b[?25hCollecting urllib3!=1.25.0,!=1.25.1,<1.26,>=1.21.1\n",
      "\u001b[?25l  Downloading https://files.pythonhosted.org/packages/e8/74/6e4f91745020f967d09332bb2b8b9b10090957334692eb88ea4afe91b77f/urllib3-1.25.8-py2.py3-none-any.whl (125kB)\n",
      "\u001b[K     |████████████████████████████████| 133kB 3.3MB/s eta 0:00:01\n",
      "\u001b[?25hCollecting chardet<4,>=3.0.2\n",
      "\u001b[?25l  Downloading https://files.pythonhosted.org/packages/bc/a9/01ffebfb562e4274b6487b4bb1ddec7ca55ec7510b22e4c51f14098443b8/chardet-3.0.4-py2.py3-none-any.whl (133kB)\n",
      "\u001b[K     |████████████████████████████████| 143kB 51.2MB/s eta 0:00:01\n",
      "\u001b[?25hRequirement already satisfied: idna<3,>=2.5 in /usr/lib/python3/dist-packages (from requests) (2.6)\n",
      "Collecting certifi>=2017.4.17\n",
      "\u001b[?25l  Downloading https://files.pythonhosted.org/packages/b9/63/df50cac98ea0d5b006c55a399c3bf1db9da7b5a24de7890bc9cfd5dd9e99/certifi-2019.11.28-py2.py3-none-any.whl (156kB)\n",
      "\u001b[K     |████████████████████████████████| 163kB 49.7MB/s eta 0:00:01\n",
      "\u001b[?25hInstalling collected packages: urllib3, chardet, certifi, requests\n",
      "Successfully installed certifi-2019.11.28 chardet-3.0.4 requests-2.23.0 urllib3-1.25.8\n",
      "\u001b[33mWARNING: You are using pip version 19.3.1; however, version 20.0.2 is available.\n",
      "You should consider upgrading via the 'pip install --upgrade pip' command.\u001b[0m\n",
      "Collecting bert-serving-server\n",
      "\u001b[?25l  Downloading https://files.pythonhosted.org/packages/b0/bd/cab677bbd0c5fb08b72e468371d2bca6ed9507785739b4656b0b5470d90b/bert_serving_server-1.10.0-py3-none-any.whl (61kB)\n",
      "\u001b[K     |████████████████████████████████| 71kB 842kB/s eta 0:00:011\n",
      "\u001b[?25hInstalling collected packages: bert-serving-server\n",
      "Successfully installed bert-serving-server-1.10.0\n",
      "\u001b[33mWARNING: You are using pip version 19.3.1; however, version 20.0.2 is available.\n",
      "You should consider upgrading via the 'pip install --upgrade pip' command.\u001b[0m\n"
     ]
    }
   ],
   "source": [
    "!pip install pandas\n",
    "!pip install requests\n",
    "!pip install bert-serving-server --no-deps\n",
    "!pip install scipy"
   ]
  },
  {
   "cell_type": "code",
   "execution_count": 3,
   "metadata": {
    "ExecuteTime": {
     "end_time": "2020-03-27T06:12:54.935121Z",
     "start_time": "2020-03-27T06:12:53.387953Z"
    },
    "colab": {
     "base_uri": "https://localhost:8080/",
     "height": 52
    },
    "colab_type": "code",
    "executionInfo": {
     "elapsed": 7294,
     "status": "ok",
     "timestamp": 1585031844610,
     "user": {
      "displayName": "Matt Rubashkin",
      "photoUrl": "https://lh3.googleusercontent.com/a-/AOh14GgOj6xOTnivyXFup_7PdIk47fCUUq--6D4fGAqiLvE=s64",
      "userId": "01365311301175690952"
     },
     "user_tz": 420
    },
    "id": "zqI2rescS2Ne",
    "outputId": "1e23de6d-34b6-4957-a4ab-b80b524d6e37"
   },
   "outputs": [
    {
     "name": "stdout",
     "output_type": "stream",
     "text": [
      "Collecting nltk\n",
      "\u001b[?25l  Downloading https://files.pythonhosted.org/packages/f6/1d/d925cfb4f324ede997f6d47bea4d9babba51b49e87a767c170b77005889d/nltk-3.4.5.zip (1.5MB)\n",
      "\u001b[K     |████████████████████████████████| 1.5MB 961kB/s eta 0:00:01\n",
      "\u001b[?25hRequirement already satisfied: six in /usr/lib/python3/dist-packages (from nltk) (1.11.0)\n",
      "Building wheels for collected packages: nltk\n",
      "  Building wheel for nltk (setup.py) ... \u001b[?25ldone\n",
      "\u001b[?25h  Created wheel for nltk: filename=nltk-3.4.5-cp36-none-any.whl size=1450719 sha256=46f3aa4a10e7cdb988d9199a8207127173fe290a8b3543b3873976fd96edbab6\n",
      "  Stored in directory: /root/.cache/pip/wheels/96/86/f6/68ab24c23f207c0077381a5e3904b2815136b879538a24b483\n",
      "Successfully built nltk\n",
      "Installing collected packages: nltk\n",
      "Successfully installed nltk-3.4.5\n",
      "\u001b[33mWARNING: You are using pip version 19.3.1; however, version 20.0.2 is available.\n",
      "You should consider upgrading via the 'pip install --upgrade pip' command.\u001b[0m\n"
     ]
    }
   ],
   "source": [
    "import numpy as np # linear algebra\n",
    "import pandas as pd # data processing, CSV file I/O (e.g. pd.read_csv)\n",
    "from pathlib import Path, PurePath\n",
    "import pandas as pd\n",
    "pd.set_option('display.max_colwidth', 100)\n",
    "\n",
    "import requests\n",
    "from requests.exceptions import HTTPError, ConnectionError\n",
    "from ipywidgets import interact\n",
    "import ipywidgets as widgets\n",
    "import re\n",
    "from ipywidgets import interact\n",
    "import ipywidgets as widgets\n",
    "import pandas as pd\n",
    "from IPython.display import display\n",
    "\n",
    "from scipy.spatial import distance_matrix\n",
    "\n",
    "!pip install nltk\n",
    "import nltk\n",
    "from nltk.corpus import stopwords\n",
    "from nltk.stem import WordNetLemmatizer \n",
    "\n",
    "\n",
    "nltk.data.path.append(\"'../../data/nltk_data/'\")\n",
    "\n",
    "from nltk.corpus import stopwords"
   ]
  },
  {
   "cell_type": "markdown",
   "metadata": {
    "colab_type": "text",
    "id": "VPoA0gobj4ck"
   },
   "source": [
    "### Connect to personal google drive google drive to enable data download\n",
    "Requires you to have this data available on your personal drive: https://drive.google.com/open?id=1ZVxvPnrnA8ffGoFsVxJs75QL9li6AfG7"
   ]
  },
  {
   "cell_type": "markdown",
   "metadata": {
    "colab": {},
    "colab_type": "code",
    "id": "skzxBe_NjzII"
   },
   "source": [
    "from google.colab import drive # for connecting to dataset on personal google drive\n",
    "# mount personal google drive that has data uploaded (Requires verification)\n",
    "drive.mount('/content/drive')"
   ]
  },
  {
   "cell_type": "markdown",
   "metadata": {
    "colab_type": "text",
    "id": "C076btW_cSYW"
   },
   "source": [
    "### Download data"
   ]
  },
  {
   "cell_type": "code",
   "execution_count": 4,
   "metadata": {
    "ExecuteTime": {
     "end_time": "2020-03-27T06:12:54.951057Z",
     "start_time": "2020-03-27T06:12:54.936774Z"
    },
    "colab": {},
    "colab_type": "code",
    "id": "4mMO08ivinJ-"
   },
   "outputs": [
    {
     "data": {
      "text/plain": [
       "[PosixPath('../../data/covid-19-research-challenge/metadata.csv'),\n",
       " PosixPath('../../data/covid-19-research-challenge/comm_use_subset'),\n",
       " PosixPath('../../data/covid-19-research-challenge/noncomm_use_subset'),\n",
       " PosixPath('../../data/covid-19-research-challenge/biorxiv_medrxiv'),\n",
       " PosixPath('../../data/covid-19-research-challenge/COVID.DATA.LIC.AGMT.pdf'),\n",
       " PosixPath('../../data/covid-19-research-challenge/metadata.readme'),\n",
       " PosixPath('../../data/covid-19-research-challenge/json_schema.txt'),\n",
       " PosixPath('../../data/covid-19-research-challenge/custom_license')]"
      ]
     },
     "execution_count": 4,
     "metadata": {},
     "output_type": "execute_result"
    }
   ],
   "source": [
    "# upload data and list contents\n",
    "input_dir = \"../../data/covid-19-research-challenge/\"\n",
    "list(Path(input_dir).glob('*'))"
   ]
  },
  {
   "cell_type": "code",
   "execution_count": 5,
   "metadata": {
    "ExecuteTime": {
     "end_time": "2020-03-27T07:04:53.103575Z",
     "start_time": "2020-03-27T07:04:52.603090Z"
    },
    "colab": {},
    "colab_type": "code",
    "id": "uhqGnR0GjsxQ"
   },
   "outputs": [
    {
     "name": "stdout",
     "output_type": "stream",
     "text": [
      "Number of articles before removing duplicates: 44220 \n"
     ]
    }
   ],
   "source": [
    "metadata_path = input_dir + 'metadata.csv'\n",
    "metadata = pd.read_csv(metadata_path,\n",
    "                               dtype={'Microsoft Academic Paper ID': str,\n",
    "                                      'pubmed_id': str})\n",
    "\n",
    "# Set the abstract to the paper title if it is null\n",
    "metadata.abstract = metadata.abstract.fillna(metadata.title)\n",
    "print(\"Number of articles before removing duplicates: %s \" % len(metadata))"
   ]
  },
  {
   "cell_type": "code",
   "execution_count": 6,
   "metadata": {
    "ExecuteTime": {
     "end_time": "2020-03-27T07:04:56.172465Z",
     "start_time": "2020-03-27T07:04:56.066504Z"
    },
    "colab": {},
    "colab_type": "code",
    "id": "5hJqOLjmTUaE"
   },
   "outputs": [
    {
     "name": "stdout",
     "output_type": "stream",
     "text": [
      "Number of articles AFTER removing duplicates: 42938 \n"
     ]
    }
   ],
   "source": [
    "# Some papers are duplicated since they were collected from separate sources. Thanks Joerg Rings\n",
    "duplicate_paper = ~(metadata.title.isnull() | metadata.abstract.isnull() | metadata.publish_time.isnull()) & (metadata.duplicated(subset=['title', 'abstract']))\n",
    "metadata.dropna(subset=['publish_time', 'journal'])\n",
    "metadata = metadata[~duplicate_paper].reset_index(drop=True)\n",
    "print(\"Number of articles AFTER removing duplicates: %s \" % len(metadata))"
   ]
  },
  {
   "cell_type": "markdown",
   "metadata": {
    "colab_type": "text",
    "id": "gr-64L0GEB2l"
   },
   "source": [
    "### **TODO**"
   ]
  },
  {
   "cell_type": "markdown",
   "metadata": {
    "colab_type": "text",
    "id": "a3SQuCAvkjsq"
   },
   "source": [
    "### Create Data Classes for the Research Dataset and Papers\n",
    "These classes make it easier to navigate through the datasources. There is a class called ResearchPapers that wraps the entire dataset an provide useful functions to navigate through it, and Paper, that make it easier to view each paper."
   ]
  },
  {
   "cell_type": "code",
   "execution_count": 13,
   "metadata": {
    "ExecuteTime": {
     "end_time": "2020-03-27T06:13:06.740496Z",
     "start_time": "2020-03-27T06:13:06.718297Z"
    },
    "colab": {},
    "colab_type": "code",
    "id": "02vqttFfcYcD"
   },
   "outputs": [],
   "source": [
    "def get(url, timeout=6):\n",
    "    try:\n",
    "        r = requests.get(url, timeout=timeout)\n",
    "        return r.text\n",
    "    except ConnectionError:\n",
    "        print(f'Cannot connect to {url}')\n",
    "        print(f'Remember to turn Internet ON in the Kaggle notebook settings')\n",
    "    except HTTPError:\n",
    "        print('Got http error', r.status, r.text)\n",
    "\n",
    "# Convert the doi to a url\n",
    "def doi_url(d): \n",
    "    return f'http://{d}' if d.startswith('doi.org') else f'http://doi.org/{d}'\n",
    "\n",
    "\n",
    "class ResearchPapers:\n",
    "    \n",
    "    def __init__(self, metadata: pd.DataFrame):\n",
    "        self.metadata = metadata\n",
    "        \n",
    "    def __getitem__(self, item):\n",
    "        return Paper(self.metadata.iloc[item])\n",
    "    \n",
    "    def __len__(self):\n",
    "        return len(self.metadata)\n",
    "    \n",
    "    def head(self, n):\n",
    "        return ResearchPapers(self.metadata.head(n).copy().reset_index(drop=True))\n",
    "    \n",
    "    def tail(self, n):\n",
    "        return ResearchPapers(self.metadata.tail(n).copy().reset_index(drop=True))\n",
    "    \n",
    "    def abstracts(self):\n",
    "        return self.metadata.abstract.dropna()\n",
    "    \n",
    "    def titles(self):\n",
    "        return self.metadata.title.dropna()\n",
    "        \n",
    "    def _repr_html_(self):\n",
    "        return self.metadata._repr_html_()\n",
    "    \n",
    "class Paper:\n",
    "    \n",
    "    '''\n",
    "    A single research paper\n",
    "    '''\n",
    "    def __init__(self, item):\n",
    "        self.paper = item.to_frame().fillna('')\n",
    "        self.paper.columns = ['Value']\n",
    "    \n",
    "    def doi(self):\n",
    "        return self.paper.loc['doi'].values[0]\n",
    "    \n",
    "    def html(self):\n",
    "        '''\n",
    "        Load the paper from doi.org and display as HTML. Requires internet to be ON\n",
    "        '''\n",
    "        if self.doi():\n",
    "            url = doi_url(self.doi()) \n",
    "            text = get(url)\n",
    "            return widgets.HTML(text)\n",
    "    \n",
    "    def text(self):\n",
    "        '''\n",
    "        Load the paper from doi.org and display as text. Requires Internet to be ON\n",
    "        '''\n",
    "        text = get(self.doi())\n",
    "        return text\n",
    "    \n",
    "    def abstract(self):\n",
    "        return self.paper.loc['abstract'].values[0]\n",
    "    \n",
    "    def title(self):\n",
    "        return self.paper.loc['title'].values[0]\n",
    "    \n",
    "    def authors(self, split=False):\n",
    "        '''\n",
    "        Get a list of authors\n",
    "        '''\n",
    "        authors = self.paper.loc['authors'].values[0]\n",
    "        if not authors:\n",
    "            return []\n",
    "        if not split:\n",
    "            return authors\n",
    "        if authors.startswith('['):\n",
    "            authors = authors.lstrip('[').rstrip(']')\n",
    "            return [a.strip().replace(\"\\'\", \"\") for a in authors.split(\"\\',\")]\n",
    "        \n",
    "        # Todo: Handle cases where author names are separated by \",\"\n",
    "        return [a.strip() for a in authors.split(';')]\n",
    "        \n",
    "    def _repr_html_(self):\n",
    "        return self.paper._repr_html_()\n",
    "    \n",
    "\n",
    "papers = ResearchPapers(metadata)"
   ]
  },
  {
   "cell_type": "markdown",
   "metadata": {
    "colab_type": "text",
    "id": "ZuVbNpd5nPxv"
   },
   "source": [
    "#### Show a Paper"
   ]
  },
  {
   "cell_type": "code",
   "execution_count": 6,
   "metadata": {
    "ExecuteTime": {
     "end_time": "2020-03-26T22:10:38.678692Z",
     "start_time": "2020-03-26T22:10:38.546134Z"
    },
    "colab": {},
    "colab_type": "code",
    "id": "UAQ6vb9ynO3E"
   },
   "outputs": [
    {
     "data": {
      "text/html": [
       "<div>\n",
       "<style scoped>\n",
       "    .dataframe tbody tr th:only-of-type {\n",
       "        vertical-align: middle;\n",
       "    }\n",
       "\n",
       "    .dataframe tbody tr th {\n",
       "        vertical-align: top;\n",
       "    }\n",
       "\n",
       "    .dataframe thead th {\n",
       "        text-align: right;\n",
       "    }\n",
       "</style>\n",
       "<table border=\"1\" class=\"dataframe\">\n",
       "  <thead>\n",
       "    <tr style=\"text-align: right;\">\n",
       "      <th></th>\n",
       "      <th>Value</th>\n",
       "    </tr>\n",
       "  </thead>\n",
       "  <tbody>\n",
       "    <tr>\n",
       "      <td>sha</td>\n",
       "      <td></td>\n",
       "    </tr>\n",
       "    <tr>\n",
       "      <td>source_x</td>\n",
       "      <td>Elsevier</td>\n",
       "    </tr>\n",
       "    <tr>\n",
       "      <td>title</td>\n",
       "      <td>Coronaviruses in Balkan nephritis</td>\n",
       "    </tr>\n",
       "    <tr>\n",
       "      <td>doi</td>\n",
       "      <td>10.1016/0002-8703(80)90355-5</td>\n",
       "    </tr>\n",
       "    <tr>\n",
       "      <td>pmcid</td>\n",
       "      <td></td>\n",
       "    </tr>\n",
       "    <tr>\n",
       "      <td>pubmed_id</td>\n",
       "      <td>6243850</td>\n",
       "    </tr>\n",
       "    <tr>\n",
       "      <td>license</td>\n",
       "      <td>els-covid</td>\n",
       "    </tr>\n",
       "    <tr>\n",
       "      <td>abstract</td>\n",
       "      <td>Coronaviruses in Balkan nephritis</td>\n",
       "    </tr>\n",
       "    <tr>\n",
       "      <td>publish_time</td>\n",
       "      <td>1980-03-31</td>\n",
       "    </tr>\n",
       "    <tr>\n",
       "      <td>authors</td>\n",
       "      <td>Georgescu, Leonida; Diosi, Peter; Buţiu, Ioan;...</td>\n",
       "    </tr>\n",
       "    <tr>\n",
       "      <td>journal</td>\n",
       "      <td>American Heart Journal</td>\n",
       "    </tr>\n",
       "    <tr>\n",
       "      <td>Microsoft Academic Paper ID</td>\n",
       "      <td></td>\n",
       "    </tr>\n",
       "    <tr>\n",
       "      <td>WHO #Covidence</td>\n",
       "      <td></td>\n",
       "    </tr>\n",
       "    <tr>\n",
       "      <td>has_full_text</td>\n",
       "      <td>False</td>\n",
       "    </tr>\n",
       "    <tr>\n",
       "      <td>full_text_file</td>\n",
       "      <td>custom_license</td>\n",
       "    </tr>\n",
       "  </tbody>\n",
       "</table>\n",
       "</div>"
      ],
      "text/plain": [
       "<__main__.Paper at 0x7f8becbe4780>"
      ]
     },
     "execution_count": 6,
     "metadata": {},
     "output_type": "execute_result"
    }
   ],
   "source": [
    "papers[1]"
   ]
  },
  {
   "cell_type": "markdown",
   "metadata": {
    "colab_type": "text",
    "id": "WgoC-KGBnJwZ"
   },
   "source": [
    "#### Pull info from a paper"
   ]
  },
  {
   "cell_type": "code",
   "execution_count": 7,
   "metadata": {
    "ExecuteTime": {
     "end_time": "2020-03-26T22:10:38.789292Z",
     "start_time": "2020-03-26T22:10:38.680529Z"
    },
    "colab": {},
    "colab_type": "code",
    "id": "Snv1YrO4cY_H"
   },
   "outputs": [
    {
     "name": "stdout",
     "output_type": "stream",
     "text": [
      "Example paper #1\n",
      "Title: Coronaviruses in Balkan nephritis\n",
      "Authors: ['Georgescu, Leonida', 'Diosi, Peter', 'Buţiu, Ioan', 'Plavoşin, Livia', 'Herzog, Georgeta'] \n"
     ]
    }
   ],
   "source": [
    "index=1\n",
    "paper=papers[index]\n",
    "print(\"Example paper #%s\\nTitle: %s\\nAuthors: %s \" % (index, paper.title(), paper.authors(split=True)))\n"
   ]
  },
  {
   "cell_type": "markdown",
   "metadata": {
    "colab_type": "text",
    "id": "vLdUa4VRn_a_"
   },
   "source": [
    "### Text Preprocessing\n",
    "To prepare the text for the search index we perform the following steps\n",
    "1.   Remove punctuations and special characters\n",
    "2.   Convert to lowercase\n",
    "3.   Tokenize into individual tokens (words mostly)\n",
    "4.   Remove stopwords like (and, to))\n",
    "5.   Lemmatize"
   ]
  },
  {
   "cell_type": "code",
   "execution_count": 8,
   "metadata": {
    "ExecuteTime": {
     "end_time": "2020-03-26T22:10:38.844492Z",
     "start_time": "2020-03-26T22:10:38.793277Z"
    },
    "colab": {},
    "colab_type": "code",
    "id": "zcGK5UOApijH"
   },
   "outputs": [],
   "source": [
    "# Download the stop words we plan on using\n",
    "# nltk.download(\"punkt\")\n",
    "# nltk.download(\"stopwords\")\n",
    "# nltk.download('wordnet')"
   ]
  },
  {
   "cell_type": "code",
   "execution_count": 9,
   "metadata": {
    "ExecuteTime": {
     "end_time": "2020-03-26T22:10:38.902848Z",
     "start_time": "2020-03-26T22:10:38.846206Z"
    },
    "colab": {},
    "colab_type": "code",
    "id": "NxTjWknWprdZ"
   },
   "outputs": [],
   "source": [
    "# Hardcode the data we want to use in search\n",
    "SEARCH_DISPLAY_COLUMNS = ['title', 'abstract', 'doi', 'authors', 'journal', 'publish_time']"
   ]
  },
  {
   "cell_type": "code",
   "execution_count": 10,
   "metadata": {
    "ExecuteTime": {
     "end_time": "2020-03-26T22:10:39.007775Z",
     "start_time": "2020-03-26T22:10:38.904757Z"
    },
    "colab": {},
    "colab_type": "code",
    "id": "mxPK2uLelsZE"
   },
   "outputs": [],
   "source": [
    "english_stopwords = list(set(stopwords.words('english')))\n",
    "\n",
    "def strip_characters(text):\n",
    "    t = re.sub('\\(|\\)|:|,|;|\\.|’|”|“|\\?|%|>|<', '', text)\n",
    "    t = re.sub('/', ' ', t)\n",
    "    t = t.replace(\"'\",'')\n",
    "    return t\n",
    "\n",
    "def clean(text):\n",
    "    t = text.lower()\n",
    "    t = strip_characters(t)\n",
    "    return t\n",
    "\n",
    "def tokenize(text):\n",
    "    words = nltk.word_tokenize(text)\n",
    "    return list(set([word for word in words \n",
    "                     if len(word) > 1\n",
    "                     and not word in english_stopwords\n",
    "                     and not (word.isnumeric() and len(word) is not 4)\n",
    "                     and (not word.isnumeric() or word.isalpha())] )\n",
    "               )\n",
    "    \n",
    "def lemmatize(word_list,lemmatizer):\n",
    "    # Init the Wordnet Lemmatizer\n",
    "    lemmatized_output = ' '.join([lemmatizer.lemmatize(w) for w in word_list])\n",
    "    return lemmatized_output\n",
    "\n",
    "\n",
    "def preprocess(text):\n",
    "    t = clean(text)\n",
    "    tokens = tokenize(t)\n",
    "    lemmatizer=WordNetLemmatizer()\n",
    "    tokens = lemmatize(tokens,lemmatizer)\n",
    "    return tokens"
   ]
  },
  {
   "cell_type": "code",
   "execution_count": 11,
   "metadata": {
    "ExecuteTime": {
     "end_time": "2020-03-26T22:10:39.102076Z",
     "start_time": "2020-03-26T22:10:39.009968Z"
    },
    "colab": {},
    "colab_type": "code",
    "id": "jQlY0SyEoUIG"
   },
   "outputs": [],
   "source": [
    "class SearchResults:\n",
    "    \n",
    "    def __init__(self, \n",
    "                 data: pd.DataFrame,\n",
    "                 columns = None):\n",
    "        self.results = data\n",
    "        if columns:\n",
    "            self.results = self.results[columns]\n",
    "            \n",
    "    def __getitem__(self, item):\n",
    "        return Paper(self.results.loc[item])\n",
    "    \n",
    "    def __len__(self):\n",
    "        return len(self.results)\n",
    "        \n",
    "    def _repr_html_(self):\n",
    "        return self.results._repr_html_()\n",
    "\n",
    "class WordTokenIndex:\n",
    "    \n",
    "    def __init__(self, \n",
    "                 corpus: pd.DataFrame, \n",
    "                 columns=SEARCH_DISPLAY_COLUMNS):\n",
    "        self.corpus = corpus\n",
    "        raw_search_str = self.corpus.abstract.fillna('') + ' ' + self.corpus.title.fillna('')\n",
    "        self.index = raw_search_str.apply(preprocess).to_frame()\n",
    "        self.index.columns = ['terms']\n",
    "        self.index.index = self.corpus.index\n",
    "        self.columns = columns\n",
    "\n",
    "    \n",
    "    def search(self, search_string):\n",
    "        search_terms = preprocess(search_string)\n",
    "        result_index = self.index.terms.apply(lambda terms: any(i in terms for i in search_terms))\n",
    "        results = self.corpus[result_index].copy().reset_index().rename(columns={'index':'paper'})\n",
    "        return SearchResults(results, self.columns + ['paper'])"
   ]
  },
  {
   "cell_type": "markdown",
   "metadata": {
    "colab_type": "text",
    "id": "GDnsymvcnak9"
   },
   "source": [
    "### Creating a search index¶ - Using a RankBM25 Search Index\n",
    "We will create a simple search index that will just match search tokens in a document. First we tokenize the abstract and store it in a dataframe. Then we just match search terms against it.\n",
    "\n",
    "RankBM25 is a python library that implements algorithms for a simple search index. https://pypi.org/project/rank-bm25/"
   ]
  },
  {
   "cell_type": "code",
   "execution_count": 12,
   "metadata": {
    "ExecuteTime": {
     "end_time": "2020-03-26T22:10:39.241400Z",
     "start_time": "2020-03-26T22:10:39.104108Z"
    },
    "colab": {},
    "colab_type": "code",
    "id": "Nm9PF76UlsN6"
   },
   "outputs": [],
   "source": [
    "#!pip install rank_bm25\n",
    "# Create a prebaked search engine with existing package: https://pypi.org/project/rank-bm25/\n",
    "from rank_bm25 import BM25Okapi"
   ]
  },
  {
   "cell_type": "code",
   "execution_count": 13,
   "metadata": {
    "ExecuteTime": {
     "end_time": "2020-03-26T22:10:39.303853Z",
     "start_time": "2020-03-26T22:10:39.243493Z"
    },
    "colab": {},
    "colab_type": "code",
    "id": "Qa0BSZXFo9OB"
   },
   "outputs": [],
   "source": [
    "class RankBM25Index(WordTokenIndex):\n",
    "    \n",
    "    def __init__(self, corpus: pd.DataFrame, columns=SEARCH_DISPLAY_COLUMNS):\n",
    "        super().__init__(corpus, columns)\n",
    "        self.bm25 = BM25Okapi(self.index.terms.tolist())\n",
    "        \n",
    "    def search(self, search_string, n=4):\n",
    "        search_terms = preprocess(search_string)\n",
    "        doc_scores = self.bm25.get_scores(search_terms)\n",
    "        ind = np.argsort(doc_scores)[::-1][:n]\n",
    "        results = self.corpus.iloc[ind][self.columns]\n",
    "        results['Score'] = doc_scores[ind]\n",
    "        results = results[results.Score > 0]\n",
    "        return SearchResults(results.reset_index(), self.columns + ['Score'])"
   ]
  },
  {
   "cell_type": "markdown",
   "metadata": {
    "colab_type": "text",
    "id": "zQqNtiMb-3rc"
   },
   "source": [
    "### Create the index (This takes several minutes)"
   ]
  },
  {
   "cell_type": "code",
   "execution_count": 14,
   "metadata": {
    "ExecuteTime": {
     "end_time": "2020-03-26T22:11:41.490166Z",
     "start_time": "2020-03-26T22:10:39.305797Z"
    },
    "colab": {},
    "colab_type": "code",
    "id": "cUsxYcrUobbh"
   },
   "outputs": [],
   "source": [
    "bm25_index = RankBM25Index(metadata)"
   ]
  },
  {
   "cell_type": "markdown",
   "metadata": {
    "colab_type": "text",
    "id": "LOwEu4pgGb7n"
   },
   "source": [
    "### Search by date"
   ]
  },
  {
   "cell_type": "code",
   "execution_count": 18,
   "metadata": {
    "ExecuteTime": {
     "end_time": "2020-03-26T22:11:49.907058Z",
     "start_time": "2020-03-26T22:11:49.740411Z"
    },
    "colab": {},
    "colab_type": "code",
    "id": "r4RubsMNpGK2"
   },
   "outputs": [
    {
     "data": {
      "text/html": [
       "<div>\n",
       "<style scoped>\n",
       "    .dataframe tbody tr th:only-of-type {\n",
       "        vertical-align: middle;\n",
       "    }\n",
       "\n",
       "    .dataframe tbody tr th {\n",
       "        vertical-align: top;\n",
       "    }\n",
       "\n",
       "    .dataframe thead th {\n",
       "        text-align: right;\n",
       "    }\n",
       "</style>\n",
       "<table border=\"1\" class=\"dataframe\">\n",
       "  <thead>\n",
       "    <tr style=\"text-align: right;\">\n",
       "      <th></th>\n",
       "      <th>title</th>\n",
       "      <th>abstract</th>\n",
       "      <th>doi</th>\n",
       "      <th>authors</th>\n",
       "      <th>journal</th>\n",
       "      <th>publish_time</th>\n",
       "      <th>Score</th>\n",
       "    </tr>\n",
       "  </thead>\n",
       "  <tbody>\n",
       "    <tr>\n",
       "      <td>23</td>\n",
       "      <td>Inhibition of SARS-CoV-2 infection (previously...</td>\n",
       "      <td>AbstractThe recent outbreak of coronavirus dis...</td>\n",
       "      <td>10.1101/2020.03.09.983247</td>\n",
       "      <td>Shuai Xia; Meiqin Liu; Chao Wang; Wei Xu; Qiao...</td>\n",
       "      <td>NaN</td>\n",
       "      <td>2020-03-12</td>\n",
       "      <td>59.917332</td>\n",
       "    </tr>\n",
       "    <tr>\n",
       "      <td>45</td>\n",
       "      <td>Will novel virus go pandemic or be contained?</td>\n",
       "      <td>The repatriation of 565 Japanese citizens from...</td>\n",
       "      <td>10.1126/science.367.6478.610</td>\n",
       "      <td>Kupferschmidt, Kai; Cohen, Jon</td>\n",
       "      <td>Science</td>\n",
       "      <td>2020-02-06</td>\n",
       "      <td>59.895739</td>\n",
       "    </tr>\n",
       "    <tr>\n",
       "      <td>49</td>\n",
       "      <td>Fuzzy logic approach for infectious disease di...</td>\n",
       "      <td>Abstract This paper presents a systematic revi...</td>\n",
       "      <td>10.1016/j.bbe.2019.09.004</td>\n",
       "      <td>Arji, Goli; Ahmadi, Hossein; Nilashi, Mehrbakh...</td>\n",
       "      <td>Biocybernetics and Biomedical Engineering</td>\n",
       "      <td>2019-12-31</td>\n",
       "      <td>59.891173</td>\n",
       "    </tr>\n",
       "    <tr>\n",
       "      <td>33</td>\n",
       "      <td>Qu’apprend-t-on de nouveau des épidémies émerg...</td>\n",
       "      <td>Points essentiels L’Afrique et l’Asie du Sud-E...</td>\n",
       "      <td>10.1016/j.lpm.2019.09.036</td>\n",
       "      <td>Malvy, Denis; Gaüzère, Bernard-Alex; Migliani,...</td>\n",
       "      <td>La Presse Médicale</td>\n",
       "      <td>2019-12-31</td>\n",
       "      <td>59.902953</td>\n",
       "    </tr>\n",
       "    <tr>\n",
       "      <td>9</td>\n",
       "      <td>Alpha herpesvirus egress and spread from neuro...</td>\n",
       "      <td>Alpha herpesviruses naturally infect the perip...</td>\n",
       "      <td>10.1101/729830</td>\n",
       "      <td>Ambrosini, A. E.; Deshmukh, N.; Berry, M. J.; ...</td>\n",
       "      <td>NaN</td>\n",
       "      <td>2019-08-08</td>\n",
       "      <td>59.972306</td>\n",
       "    </tr>\n",
       "  </tbody>\n",
       "</table>\n",
       "</div>"
      ],
      "text/plain": [
       "                                                title  \\\n",
       "23  Inhibition of SARS-CoV-2 infection (previously...   \n",
       "45      Will novel virus go pandemic or be contained?   \n",
       "49  Fuzzy logic approach for infectious disease di...   \n",
       "33  Qu’apprend-t-on de nouveau des épidémies émerg...   \n",
       "9   Alpha herpesvirus egress and spread from neuro...   \n",
       "\n",
       "                                             abstract  \\\n",
       "23  AbstractThe recent outbreak of coronavirus dis...   \n",
       "45  The repatriation of 565 Japanese citizens from...   \n",
       "49  Abstract This paper presents a systematic revi...   \n",
       "33  Points essentiels L’Afrique et l’Asie du Sud-E...   \n",
       "9   Alpha herpesviruses naturally infect the perip...   \n",
       "\n",
       "                             doi  \\\n",
       "23     10.1101/2020.03.09.983247   \n",
       "45  10.1126/science.367.6478.610   \n",
       "49     10.1016/j.bbe.2019.09.004   \n",
       "33     10.1016/j.lpm.2019.09.036   \n",
       "9                 10.1101/729830   \n",
       "\n",
       "                                              authors  \\\n",
       "23  Shuai Xia; Meiqin Liu; Chao Wang; Wei Xu; Qiao...   \n",
       "45                     Kupferschmidt, Kai; Cohen, Jon   \n",
       "49  Arji, Goli; Ahmadi, Hossein; Nilashi, Mehrbakh...   \n",
       "33  Malvy, Denis; Gaüzère, Bernard-Alex; Migliani,...   \n",
       "9   Ambrosini, A. E.; Deshmukh, N.; Berry, M. J.; ...   \n",
       "\n",
       "                                      journal publish_time      Score  \n",
       "23                                        NaN   2020-03-12  59.917332  \n",
       "45                                    Science   2020-02-06  59.895739  \n",
       "49  Biocybernetics and Biomedical Engineering   2019-12-31  59.891173  \n",
       "33                         La Presse Médicale   2019-12-31  59.902953  \n",
       "9                                         NaN   2019-08-08  59.972306  "
      ]
     },
     "execution_count": 18,
     "metadata": {},
     "output_type": "execute_result"
    }
   ],
   "source": [
    "# example output\n",
    "query='curise ship'\n",
    "n=50\n",
    "results = bm25_index.search(query,n)\n",
    "results.results.sort_values(by=['publish_time'], ascending=False).head(5)"
   ]
  },
  {
   "cell_type": "code",
   "execution_count": 16,
   "metadata": {
    "ExecuteTime": {
     "end_time": "2020-03-26T22:11:41.839730Z",
     "start_time": "2020-03-26T22:11:41.698522Z"
    },
    "colab": {},
    "colab_type": "code",
    "id": "ulCpY3ooEr4u"
   },
   "outputs": [
    {
     "data": {
      "text/html": [
       "<div>\n",
       "<style scoped>\n",
       "    .dataframe tbody tr th:only-of-type {\n",
       "        vertical-align: middle;\n",
       "    }\n",
       "\n",
       "    .dataframe tbody tr th {\n",
       "        vertical-align: top;\n",
       "    }\n",
       "\n",
       "    .dataframe thead th {\n",
       "        text-align: right;\n",
       "    }\n",
       "</style>\n",
       "<table border=\"1\" class=\"dataframe\">\n",
       "  <thead>\n",
       "    <tr style=\"text-align: right;\">\n",
       "      <th></th>\n",
       "      <th>title</th>\n",
       "      <th>abstract</th>\n",
       "      <th>doi</th>\n",
       "      <th>authors</th>\n",
       "      <th>journal</th>\n",
       "      <th>publish_time</th>\n",
       "      <th>Score</th>\n",
       "    </tr>\n",
       "  </thead>\n",
       "  <tbody>\n",
       "    <tr>\n",
       "      <td>39</td>\n",
       "      <td>Will novel virus go pandemic or be contained?</td>\n",
       "      <td>The repatriation of 565 Japanese citizens from...</td>\n",
       "      <td>10.1126/science.367.6478.610</td>\n",
       "      <td>Kupferschmidt, Kai; Cohen, Jon</td>\n",
       "      <td>Science</td>\n",
       "      <td>2020-02-06</td>\n",
       "      <td>48.683726</td>\n",
       "    </tr>\n",
       "    <tr>\n",
       "      <td>5</td>\n",
       "      <td>EGR1 upregulation following Venezuelan equine ...</td>\n",
       "      <td>Abstract Venezuelan equine encephalitis virus ...</td>\n",
       "      <td>10.1016/j.virol.2019.10.016</td>\n",
       "      <td>Dahal, Bibha; Lin, Shih-Chao; Carey, Brian D.;...</td>\n",
       "      <td>Virology</td>\n",
       "      <td>2020-01-02</td>\n",
       "      <td>48.831123</td>\n",
       "    </tr>\n",
       "    <tr>\n",
       "      <td>24</td>\n",
       "      <td>Identification of a Novel Linear B-Cell Epitop...</td>\n",
       "      <td>Porcine deltacoronavirus (PDCoV), first identi...</td>\n",
       "      <td>10.3390/ijms21020648</td>\n",
       "      <td>Fu, Jiayu; Chen, Rui; Hu, Jingfei; Qu, Huan; Z...</td>\n",
       "      <td>Int J Mol Sci</td>\n",
       "      <td>2020 Jan 19</td>\n",
       "      <td>48.718720</td>\n",
       "    </tr>\n",
       "    <tr>\n",
       "      <td>10</td>\n",
       "      <td>Clinician perceptions of respiratory infection...</td>\n",
       "      <td>Abstract Outbreaks of emerging and re-emerging...</td>\n",
       "      <td>10.1016/j.idh.2019.01.003</td>\n",
       "      <td>Barratt, Ruth; Shaban, Ramon Z.; Gilbert, Gwen...</td>\n",
       "      <td>Infection, Disease &amp; Health</td>\n",
       "      <td>2019-08-31</td>\n",
       "      <td>48.786863</td>\n",
       "    </tr>\n",
       "    <tr>\n",
       "      <td>17</td>\n",
       "      <td>ULK1/2 Restricts the Formation of Inducible SI...</td>\n",
       "      <td>Membraneless organelles (MLOs) are liquid-like...</td>\n",
       "      <td>10.1016/j.isci.2019.08.001</td>\n",
       "      <td>Saul, Vera Vivian; Seibert, Markus; Krüger, Ma...</td>\n",
       "      <td>iScience</td>\n",
       "      <td>2019 Aug 6</td>\n",
       "      <td>48.757805</td>\n",
       "    </tr>\n",
       "  </tbody>\n",
       "</table>\n",
       "</div>"
      ],
      "text/plain": [
       "                                                title  \\\n",
       "39      Will novel virus go pandemic or be contained?   \n",
       "5   EGR1 upregulation following Venezuelan equine ...   \n",
       "24  Identification of a Novel Linear B-Cell Epitop...   \n",
       "10  Clinician perceptions of respiratory infection...   \n",
       "17  ULK1/2 Restricts the Formation of Inducible SI...   \n",
       "\n",
       "                                             abstract  \\\n",
       "39  The repatriation of 565 Japanese citizens from...   \n",
       "5   Abstract Venezuelan equine encephalitis virus ...   \n",
       "24  Porcine deltacoronavirus (PDCoV), first identi...   \n",
       "10  Abstract Outbreaks of emerging and re-emerging...   \n",
       "17  Membraneless organelles (MLOs) are liquid-like...   \n",
       "\n",
       "                             doi  \\\n",
       "39  10.1126/science.367.6478.610   \n",
       "5    10.1016/j.virol.2019.10.016   \n",
       "24          10.3390/ijms21020648   \n",
       "10     10.1016/j.idh.2019.01.003   \n",
       "17    10.1016/j.isci.2019.08.001   \n",
       "\n",
       "                                              authors  \\\n",
       "39                     Kupferschmidt, Kai; Cohen, Jon   \n",
       "5   Dahal, Bibha; Lin, Shih-Chao; Carey, Brian D.;...   \n",
       "24  Fu, Jiayu; Chen, Rui; Hu, Jingfei; Qu, Huan; Z...   \n",
       "10  Barratt, Ruth; Shaban, Ramon Z.; Gilbert, Gwen...   \n",
       "17  Saul, Vera Vivian; Seibert, Markus; Krüger, Ma...   \n",
       "\n",
       "                        journal publish_time      Score  \n",
       "39                      Science   2020-02-06  48.683726  \n",
       "5                      Virology   2020-01-02  48.831123  \n",
       "24                Int J Mol Sci  2020 Jan 19  48.718720  \n",
       "10  Infection, Disease & Health   2019-08-31  48.786863  \n",
       "17                     iScience   2019 Aug 6  48.757805  "
      ]
     },
     "execution_count": 16,
     "metadata": {},
     "output_type": "execute_result"
    }
   ],
   "source": [
    "# example output\n",
    "query='ACE spike'\n",
    "n=50\n",
    "results = bm25_index.search(query,n)\n",
    "results.results.sort_values(by=['publish_time'], ascending=False).head(5)"
   ]
  },
  {
   "cell_type": "markdown",
   "metadata": {
    "colab_type": "text",
    "id": "rQLY3TWUAnG3"
   },
   "source": [
    "### Creating an Autocomplete Search bar with ranking by score\n",
    "Here we provide a search bar with autocomplete. This uses IPywidgets interactive rendering of a TextBox."
   ]
  },
  {
   "cell_type": "code",
   "execution_count": 19,
   "metadata": {
    "ExecuteTime": {
     "end_time": "2020-03-26T22:11:55.332488Z",
     "start_time": "2020-03-26T22:11:55.170980Z"
    },
    "colab": {},
    "colab_type": "code",
    "id": "beMz_ebQAr74"
   },
   "outputs": [
    {
     "data": {
      "application/vnd.jupyter.widget-view+json": {
       "model_id": "c0bc6ad0804f4980bb5a9a576edc279c",
       "version_major": 2,
       "version_minor": 0
      },
      "text/plain": [
       "interactive(children=(Text(value='ACE spike', description='SearchTerms'), Output()), _dom_classes=('widget-int…"
      ]
     },
     "metadata": {},
     "output_type": "display_data"
    }
   ],
   "source": [
    "def search_papers(SearchTerms: str):\n",
    "    results_to_consider=200\n",
    "    results_to_display=10\n",
    "    # gather search results by score\n",
    "    output = bm25_index.search(SearchTerms, n=results_to_consider)\n",
    "    # sort results by recency\n",
    "    # output=search_results.results.sort_values(by=['publish_time'], ascending=False).head(results_to_display)\n",
    "    if len(output) > 0:\n",
    "        display(output) \n",
    "    return output\n",
    "\n",
    "searchbar = widgets.interactive(search_papers, SearchTerms='ACE spike')\n",
    "searchbar"
   ]
  },
  {
   "cell_type": "markdown",
   "metadata": {
    "colab_type": "text",
    "id": "DFTCTL0UGLlM"
   },
   "source": [
    "### TODO"
   ]
  },
  {
   "cell_type": "code",
   "execution_count": 19,
   "metadata": {
    "ExecuteTime": {
     "end_time": "2020-03-24T21:00:31.259249Z",
     "start_time": "2020-03-24T21:00:31.257023Z"
    },
    "colab": {},
    "colab_type": "code",
    "id": "77C-cve8GMmD"
   },
   "outputs": [],
   "source": [
    "# Do search with option to restrict years available"
   ]
  },
  {
   "cell_type": "markdown",
   "metadata": {
    "colab_type": "text",
    "id": "ZvkuSN65_spU"
   },
   "source": [
    "### Looking at the Covid Research Tasks\n",
    "This dataset has a number of tasks. We will try to organize the papers according to the tasks\n",
    "\n",
    "What is known about transmission, incubation, and environmental stability?\n",
    "What do we know about COVID-19 risk factors?\n",
    "What do we know about virus genetics, origin, and evolution?\n",
    "What has been published about ethical and social science considerations?\n",
    "What do we know about diagnostics and surveillance?\n",
    "What has been published about medical care?\n",
    "What do we know about non-pharmaceutical interventions?\n",
    "What has been published about information sharing and inter-sectoral collaboration?\n",
    "What do we know about vaccines and therapeutics?"
   ]
  },
  {
   "cell_type": "code",
   "execution_count": 7,
   "metadata": {
    "ExecuteTime": {
     "end_time": "2020-03-27T06:15:32.075197Z",
     "start_time": "2020-03-27T06:15:32.069984Z"
    },
    "colab": {},
    "colab_type": "code",
    "id": "MCAtXGvh_XAm"
   },
   "outputs": [],
   "source": [
    "tasks = [('What is known about transmission, incubation, and environmental stability?', \n",
    "        'transmission incubation environment coronavirus'),\n",
    "        ('What do we know about COVID-19 risk factors?', 'risk factors'),\n",
    "        ('What do we know about virus genetics, origin, and evolution?', 'genetics origin evolution'),\n",
    "        ('What has been published about ethical and social science considerations','ethics ethical social'),\n",
    "        ('What do we know about diagnostics and surveillance?','diagnose diagnostic surveillance'),\n",
    "        ('What has been published about medical care?', 'medical care'),\n",
    "        ('What do we know about vaccines and therapeutics?', 'vaccines vaccine vaccinate therapeutic therapeutics')] \n",
    "tasks = pd.DataFrame(tasks, columns=['Task', 'Keywords'])"
   ]
  },
  {
   "cell_type": "markdown",
   "metadata": {
    "colab_type": "text",
    "id": "b_2xnawh_z98"
   },
   "source": [
    "#### Research papers for each task\n",
    "Here we add a dropdown that allows for selection of tasks and show the search results"
   ]
  },
  {
   "cell_type": "code",
   "execution_count": 8,
   "metadata": {
    "ExecuteTime": {
     "end_time": "2020-03-27T06:15:36.717354Z",
     "start_time": "2020-03-27T06:15:36.469345Z"
    },
    "colab": {},
    "colab_type": "code",
    "id": "cDtB9ggPFcMq"
   },
   "outputs": [
    {
     "data": {
      "application/vnd.jupyter.widget-view+json": {
       "model_id": "f4b36ee4d7794ca59cfe334b23481095",
       "version_major": 2,
       "version_minor": 0
      },
      "text/plain": [
       "interactive(children=(Dropdown(description='Task', options=('What is known about transmission, incubation, and…"
      ]
     },
     "metadata": {},
     "output_type": "display_data"
    }
   ],
   "source": [
    "def show_task(Task):\n",
    "    print(Task)\n",
    "    keywords = tasks[tasks.Task == Task].Keywords.values[0]\n",
    "    search_results = bm25_index.search(keywords, n=200)\n",
    "    return search_results\n",
    "    \n",
    "results = interact(show_task, Task = tasks.Task.tolist());"
   ]
  },
  {
   "cell_type": "markdown",
   "metadata": {
    "colab_type": "text",
    "id": "67PH21y__XYn"
   },
   "source": [
    "# Create a BERT sentance encoding search engine \n",
    "From: https://towardsdatascience.com/building-a-search-engine-with-bert-and-tensorflow-c6fdc0186c8a\n",
    "By: Denis Antyukhov\n",
    "In this experiment, we will use a pre-trained BERT model checkpoint to build a general-purpose text feature extractor.\n",
    "\n",
    "These things are sometimes referred to as Natural Language Understanding (NLU) modules, because the features they extract are relevant for a wide array of downstream NLP tasks.\n",
    "\n",
    "One use for these features is in instance-based learning, which relies on computing the similarity of the query to the training samples.\n",
    "\n",
    "We will illustrate this by building a simple Information Retrieval system using the BERT NLU module for feature extraction.\n",
    "\n",
    "**The plan for this experiment is:**\n",
    "1. getting the pre-trained BERT model checkpoint\n",
    "2. extracting a sub-graph optimized for inference\n",
    "3. creating a feature extractor with tf.Estimator\n",
    "4. exploring vector space with T-SNE and Embedding Projector\n",
    "5. implementing an Information Retrieval engine\n",
    "6. accelerating search queries with math\n",
    "7. building a covid research article recommendation system"
   ]
  },
  {
   "cell_type": "markdown",
   "metadata": {
    "colab_type": "text",
    "id": "gbCgocXVJ4bY"
   },
   "source": [
    "### Step 1: getting the pre-trained model\n",
    "We start with a pre-trained english BERT-base model checkpoint.\n",
    "\n",
    "For configuring and optimizing the graph for inference we will use bert-as-a-service repository, which allows for serving BERT models for remote clients over TCP.\n",
    "\n",
    "Having a remote BERT-server is beneficial in multi-host environments. However, in this part of the experiment we will focus on creating a local (in-process) feature extractor. This is useful if one wishes to avoid additional latency and potential failure modes introduced by a client-server architecture. Now, let us download the model and install the package.\n",
    "\n",
    "Now, let us download the model and install the package."
   ]
  },
  {
   "cell_type": "markdown",
   "metadata": {
    "colab": {},
    "colab_type": "code",
    "id": "Obm1_Pti_gqx"
   },
   "source": [
    "!wget https://storage.googleapis.com/bert_models/2018_10_18/uncased_L-12_H-768_A-12.zip\n",
    "!unzip uncased_L-12_H-768_A-12.zip\n",
    "!pip install bert-serving-server --no-deps"
   ]
  },
  {
   "cell_type": "markdown",
   "metadata": {
    "colab_type": "text",
    "id": "aGlziSVYK0gy"
   },
   "source": [
    "## Step 2: optimizing the inference graph\n",
    "Normally, to modify the model graph we would have to do some low-level TensorFlow programming. \n",
    "\n",
    "However, thanks to bert-as-a-service, we can configure the inference graph using a simple CLI interface.\n",
    "\n",
    "There are a couple of parameters in the below snippet too look out for.\n",
    "\n",
    "For each text sample, BERT-base model encoding layers output a tensor of shape **[sequence_len, encoder_dim],** with one vector per input token. To obtain a fixed representation, we need to apply some sort of pooling.\n",
    "\n",
    "**POOL_STRAT** parameter defines the pooling strategy applied to the  **POOL_LAYER** encoding layer. The default value **REDUCE_MEAN** averages the vectors for all tokens in a sequence. This strategy works best for most sentence-level tasks, when the model is not fine-tuned. Another option is NONE, in which case no pooling is applied at all. This is useful for word-level tasks such as Named Entity Recognition or POS tagging. For a detailed discussion of other options check out the Han Xiao's [blog post.](https://hanxiao.github.io/2019/01/02/Serving-Google-BERT-in-Production-using-Tensorflow-and-ZeroMQ/)\n",
    "\n",
    "**SEQ_LEN** affects the maximum length of sequences processed by the model. Smaller values increase the model inference speed almost linearly."
   ]
  },
  {
   "cell_type": "code",
   "execution_count": 9,
   "metadata": {
    "ExecuteTime": {
     "end_time": "2020-03-27T06:16:00.136522Z",
     "start_time": "2020-03-27T06:15:59.068341Z"
    }
   },
   "outputs": [],
   "source": [
    "import os\n",
    "import tensorflow as tf\n",
    "sesh = tf.InteractiveSession()\n",
    "\n",
    "from bert_serving.server.graph import optimize_graph\n",
    "from bert_serving.server.helper import get_args_parser\n",
    "\n",
    "# input dir\n",
    "MODEL_DIR = '../../data/BERT/uncased_L-12_H-768_A-12/' #@param {type:\"string\"}\n",
    "# output dir\n",
    "GRAPH_DIR = '../../data/BERT/graph/' #@param {type:\"string\"}\n",
    "# output filename\n",
    "GRAPH_OUT = 'extractor.pbtxt' #@param {type:\"string\"}\n",
    "\n",
    "POOL_STRAT = 'REDUCE_MEAN' #@param ['REDUCE_MEAN', 'REDUCE_MAX', \"NONE\"]\n",
    "POOL_LAYER = '-2' #@param {type:\"string\"}\n",
    "SEQ_LEN = '256' #@param {type:\"string\"}"
   ]
  },
  {
   "cell_type": "code",
   "execution_count": 1,
   "metadata": {
    "ExecuteTime": {
     "end_time": "2020-03-24T20:59:19.762192Z",
     "start_time": "2020-03-24T20:59:06.372638Z"
    },
    "colab": {},
    "colab_type": "code",
    "id": "vkYOjgI1_ep3"
   },
   "outputs": [
    {
     "name": "stderr",
     "output_type": "stream",
     "text": [
      "WARNING: Logging before flag parsing goes to stderr.\n",
      "W0324 13:59:07.741838 140502332016448 module_wrapper.py:139] From /home/fatken/.local/lib/python3.6/site-packages/bert_serving/server/helper.py:180: The name tf.logging.set_verbosity is deprecated. Please use tf.compat.v1.logging.set_verbosity instead.\n",
      "\n",
      "W0324 13:59:07.742825 140502332016448 module_wrapper.py:139] From /home/fatken/.local/lib/python3.6/site-packages/bert_serving/server/helper.py:180: The name tf.logging.ERROR is deprecated. Please use tf.compat.v1.logging.ERROR instead.\n",
      "\n",
      "I:\u001b[36mGRAPHOPT\u001b[0m:[gra:opt: 52]:model config: /home/fatken/data/BERT/uncased_L-12_H-768_A-12/bert_config.json\n",
      "I0324 13:59:07.744890 140502332016448 graph.py:52] model config: /home/fatken/data/BERT/uncased_L-12_H-768_A-12/bert_config.json\n",
      "I:\u001b[36mGRAPHOPT\u001b[0m:[gra:opt: 55]:checkpoint: /home/fatken/data/BERT/uncased_L-12_H-768_A-12/bert_model.ckpt\n",
      "I0324 13:59:07.746072 140502332016448 graph.py:55] checkpoint: /home/fatken/data/BERT/uncased_L-12_H-768_A-12/bert_model.ckpt\n",
      "I:\u001b[36mGRAPHOPT\u001b[0m:[gra:opt: 59]:build graph...\n",
      "I0324 13:59:07.765055 140502332016448 graph.py:59] build graph...\n",
      "I:\u001b[36mGRAPHOPT\u001b[0m:[gra:opt:128]:load parameters from checkpoint...\n",
      "I0324 13:59:09.825789 140502332016448 graph.py:128] load parameters from checkpoint...\n",
      "I:\u001b[36mGRAPHOPT\u001b[0m:[gra:opt:132]:optimize...\n",
      "I0324 13:59:14.628500 140502332016448 graph.py:132] optimize...\n",
      "I:\u001b[36mGRAPHOPT\u001b[0m:[gra:opt:140]:freeze...\n",
      "I0324 13:59:14.949041 140502332016448 graph.py:140] freeze...\n",
      "I:\u001b[36mGRAPHOPT\u001b[0m:[gra:opt:145]:write graph to a tmp file: /home/fatken/data/BERT/graph/tmpbqy3241r\n",
      "I0324 13:59:15.473903 140502332016448 graph.py:145] write graph to a tmp file: /home/fatken/data/BERT/graph/tmpbqy3241r\n"
     ]
    },
    {
     "name": "stdout",
     "output_type": "stream",
     "text": [
      "\n",
      "Serialized graph to /home/fatken/data/BERT/graph/extractor.pbtxt\n"
     ]
    }
   ],
   "source": [
    "\n",
    "\n",
    "tf.gfile.MkDir(GRAPH_DIR)\n",
    "\n",
    "parser = get_args_parser()\n",
    "carg = parser.parse_args(args=['-model_dir', MODEL_DIR,\n",
    "                               '-graph_tmp_dir', GRAPH_DIR,\n",
    "                               '-max_seq_len', str(SEQ_LEN),\n",
    "                               '-pooling_layer', str(POOL_LAYER),\n",
    "                               '-pooling_strategy', POOL_STRAT])\n",
    "\n",
    "tmp_name, config = optimize_graph(carg)\n",
    "graph_fout = os.path.join(GRAPH_DIR, GRAPH_OUT)\n",
    "\n",
    "tf.gfile.Rename(\n",
    "    tmp_name,\n",
    "    graph_fout,\n",
    "    overwrite=True\n",
    ")\n",
    "print(\"\\nSerialized graph to {}\".format(graph_fout))"
   ]
  },
  {
   "cell_type": "markdown",
   "metadata": {
    "colab_type": "text",
    "id": "9q2yDu4wLAkN"
   },
   "source": [
    "Running the above snippet will put the BERT model graph and weights from  **MODEL_DIR** into a GraphDef object which will be serialized to a pbtxt file at **GRAPH_OUT**. The file will be smaller than the original model because the nodes and variables required for training will be removed. This results in a quite portable solution: for example the english base model only takes 389 MB after exporting."
   ]
  },
  {
   "cell_type": "markdown",
   "metadata": {
    "colab_type": "text",
    "id": "eARzl4sCLI7d"
   },
   "source": [
    "### Step 3: creating a feature extractor\n",
    "Now, we will use the serialized graph to build a feature extractor using the tf.Estimator API. We will need to define two things: **input_fn** and **model_fn**"
   ]
  },
  {
   "cell_type": "code",
   "execution_count": 10,
   "metadata": {
    "ExecuteTime": {
     "end_time": "2020-03-27T06:16:14.461055Z",
     "start_time": "2020-03-27T06:16:14.451835Z"
    },
    "colab": {},
    "colab_type": "code",
    "id": "mFrwq2AZLCkD"
   },
   "outputs": [],
   "source": [
    "import logging\n",
    "import numpy as np\n",
    "\n",
    "from tensorflow.python.estimator.estimator import Estimator\n",
    "from tensorflow.python.estimator.run_config import RunConfig\n",
    "from tensorflow.python.estimator.model_fn import EstimatorSpec\n",
    "from tensorflow.keras.utils import Progbar\n",
    "\n",
    "from bert_serving.server.bert.tokenization import FullTokenizer\n",
    "from bert_serving.server.bert.extract_features import convert_lst_to_features\n",
    "\n",
    "\n",
    "log = logging.getLogger('tensorflow')\n",
    "log.setLevel(logging.INFO)\n",
    "log.handlers = []"
   ]
  },
  {
   "cell_type": "code",
   "execution_count": 11,
   "metadata": {
    "ExecuteTime": {
     "end_time": "2020-03-27T06:16:17.034971Z",
     "start_time": "2020-03-27T06:16:17.031860Z"
    },
    "colab": {},
    "colab_type": "code",
    "id": "4zM-IaRxLNmR"
   },
   "outputs": [],
   "source": [
    "GRAPH_PATH = GRAPH_DIR + GRAPH_OUT #@param {type:\"string\"}\n",
    "VOCAB_PATH = MODEL_DIR + \"vocab.txt\" #@param {type:\"string\"}\n",
    "\n",
    "SEQ_LEN = 256 #@param {type:\"integer\"}"
   ]
  },
  {
   "cell_type": "markdown",
   "metadata": {
    "colab_type": "text",
    "id": "Z885uqROLSN6"
   },
   "source": [
    "**input_fn** manages getting the data into the model. That includes executing the whole text preprocessing pipeline and preparing a feed_dict for BERT. \n",
    "\n",
    "First, each text sample is converted into a tf.Example instance containing the necessary features listed in **INPUT_NAMES**. The bert_tokenizer object contains  the WordPiece vocabulary and performs the text preprocessing. After that the examples are re-grouped by feature name in a **feed_dict**."
   ]
  },
  {
   "cell_type": "code",
   "execution_count": 12,
   "metadata": {
    "ExecuteTime": {
     "end_time": "2020-03-27T06:16:42.945452Z",
     "start_time": "2020-03-27T06:16:42.836591Z"
    },
    "colab": {},
    "colab_type": "code",
    "id": "V-SMkDVYLP1N"
   },
   "outputs": [
    {
     "name": "stderr",
     "output_type": "stream",
     "text": [
      "From /usr/local/lib/python3.6/dist-packages/bert_serving/server/bert/tokenization.py:75: The name tf.gfile.GFile is deprecated. Please use tf.io.gfile.GFile instead.\n",
      "\n"
     ]
    }
   ],
   "source": [
    "INPUT_NAMES = ['input_ids', 'input_mask', 'input_type_ids']\n",
    "bert_tokenizer = FullTokenizer(VOCAB_PATH)\n",
    "\n",
    "def build_feed_dict(texts):\n",
    "    \n",
    "    text_features = list(convert_lst_to_features(\n",
    "        texts, SEQ_LEN, SEQ_LEN, \n",
    "        bert_tokenizer, log, False, False))\n",
    "\n",
    "    target_shape = (len(texts), -1)\n",
    "\n",
    "    feed_dict = {}\n",
    "    for iname in INPUT_NAMES:\n",
    "        features_i = np.array([getattr(f, iname) for f in text_features])\n",
    "        features_i = features_i.reshape(target_shape).astype(\"int32\")\n",
    "        feed_dict[iname] = features_i\n",
    "\n",
    "    return feed_dict"
   ]
  },
  {
   "cell_type": "markdown",
   "metadata": {
    "colab_type": "text",
    "id": "VpSMbxKKLYVe"
   },
   "source": [
    "tf.Estimators have a fun feature which makes them re-build and re-initialize the whole computational graph at each call to the predict function. \n",
    "\n",
    "So, in order to avoid the overhead, to the predict function we will pass a generator, which will yield the features to the model in a never-ending loop."
   ]
  },
  {
   "cell_type": "code",
   "execution_count": 13,
   "metadata": {
    "ExecuteTime": {
     "end_time": "2020-03-27T06:16:45.905045Z",
     "start_time": "2020-03-27T06:16:45.896933Z"
    },
    "colab": {},
    "colab_type": "code",
    "id": "gne1y7etLaEj"
   },
   "outputs": [],
   "source": [
    "def build_input_fn(container):\n",
    "    \n",
    "    def gen():\n",
    "        while True:\n",
    "          try:\n",
    "            yield build_feed_dict(container.get())\n",
    "          except:\n",
    "            yield build_feed_dict(container.get())\n",
    "\n",
    "    def input_fn():\n",
    "        return tf.data.Dataset.from_generator(\n",
    "            gen,\n",
    "            output_types={iname: tf.int32 for iname in INPUT_NAMES},\n",
    "            output_shapes={iname: (None, None) for iname in INPUT_NAMES})\n",
    "    return input_fn\n",
    "\n",
    "class DataContainer:\n",
    "  def __init__(self):\n",
    "    self._texts = None\n",
    "  \n",
    "  def set(self, texts):\n",
    "    if type(texts) is str:\n",
    "      texts = [texts]\n",
    "    self._texts = texts\n",
    "    \n",
    "  def get(self):\n",
    "    return self._texts"
   ]
  },
  {
   "cell_type": "markdown",
   "metadata": {
    "colab_type": "text",
    "id": "pG8MrQ4ILc-l"
   },
   "source": [
    "**model_fn** contains the specification of the model. In our case, it is loaded from the pbtxt file we saved in the previous step. \n",
    "\n",
    "The features are mapped explicitly to the corresponding input nodes with input_map."
   ]
  },
  {
   "cell_type": "code",
   "execution_count": 14,
   "metadata": {
    "ExecuteTime": {
     "end_time": "2020-03-27T06:16:50.874661Z",
     "start_time": "2020-03-27T06:16:50.863994Z"
    },
    "colab": {},
    "colab_type": "code",
    "id": "q8m5Uch7Lf9A"
   },
   "outputs": [
    {
     "name": "stderr",
     "output_type": "stream",
     "text": [
      "Using temporary folder as model directory: /tmp/tmpm1xlif1p\n"
     ]
    }
   ],
   "source": [
    "def model_fn(features, mode):\n",
    "    with tf.gfile.GFile(GRAPH_PATH, 'rb') as f:\n",
    "        graph_def = tf.GraphDef()\n",
    "        graph_def.ParseFromString(f.read())\n",
    "        \n",
    "    output = tf.import_graph_def(graph_def,\n",
    "                                 input_map={k + ':0': features[k] for k in INPUT_NAMES},\n",
    "                                 return_elements=['final_encodes:0'])\n",
    "\n",
    "    return EstimatorSpec(mode=mode, predictions={'output': output[0]})\n",
    "  \n",
    "estimator = Estimator(model_fn=model_fn)"
   ]
  },
  {
   "cell_type": "markdown",
   "metadata": {
    "colab_type": "text",
    "id": "nTEqJGX5LpXH"
   },
   "source": [
    "Now we have everything we need to perform inference:"
   ]
  },
  {
   "cell_type": "code",
   "execution_count": 15,
   "metadata": {
    "ExecuteTime": {
     "end_time": "2020-03-27T06:16:56.034527Z",
     "start_time": "2020-03-27T06:16:56.025788Z"
    },
    "colab": {},
    "colab_type": "code",
    "id": "XYv18IqcLnQ5"
   },
   "outputs": [],
   "source": [
    "def batch(iterable, n=1):\n",
    "    l = len(iterable)\n",
    "    for ndx in range(0, l, n):\n",
    "        yield iterable[ndx:min(ndx + n, l)]\n",
    "\n",
    "def build_vectorizer(_estimator, _input_fn_builder, batch_size=128):\n",
    "  container = DataContainer()\n",
    "  predict_fn = _estimator.predict(_input_fn_builder(container), yield_single_examples=False)\n",
    "  \n",
    "  def vectorize(text, verbose=False):\n",
    "    x = []\n",
    "    bar = Progbar(len(text))\n",
    "    for text_batch in batch(text, batch_size):\n",
    "      container.set(text_batch)\n",
    "      x.append(next(predict_fn)['output'])\n",
    "      if verbose:\n",
    "        bar.add(len(text_batch))\n",
    "      \n",
    "    r = np.vstack(x)\n",
    "    return r\n",
    "  \n",
    "  return vectorize"
   ]
  },
  {
   "cell_type": "code",
   "execution_count": 16,
   "metadata": {
    "ExecuteTime": {
     "end_time": "2020-03-27T06:16:58.646953Z",
     "start_time": "2020-03-27T06:16:58.643935Z"
    },
    "colab": {},
    "colab_type": "code",
    "id": "xw33e3SRLnKm"
   },
   "outputs": [],
   "source": [
    "bert_vectorizer = build_vectorizer(estimator, build_input_fn)"
   ]
  },
  {
   "cell_type": "code",
   "execution_count": 17,
   "metadata": {
    "ExecuteTime": {
     "end_time": "2020-03-26T22:13:28.304215Z",
     "start_time": "2020-03-26T22:13:10.402624Z"
    },
    "colab": {},
    "colab_type": "code",
    "id": "iAAXDUrsLnGW"
   },
   "outputs": [
    {
     "name": "stderr",
     "output_type": "stream",
     "text": [
      "From /usr/local/lib/python3.6/dist-packages/tensorflow_core/python/ops/array_ops.py:1475: where (from tensorflow.python.ops.array_ops) is deprecated and will be removed in a future version.\n",
      "Instructions for updating:\n",
      "Use tf.where in 2.0, which has the same broadcast rule as np.where\n"
     ]
    },
    {
     "data": {
      "text/plain": [
       "(2, 768)"
      ]
     },
     "execution_count": 17,
     "metadata": {},
     "output_type": "execute_result"
    }
   ],
   "source": [
    "bert_vectorizer(2*['sample text']).shape"
   ]
  },
  {
   "cell_type": "markdown",
   "metadata": {
    "colab_type": "text",
    "id": "2_YuBehNMKvT"
   },
   "source": [
    "### Step 4: exploring vector space with Projector\n",
    "\n",
    "*A* standalone version of BERT feature extractor is available in the [repository](https://github.com/gaphex/bert_experimental).\n",
    "\n",
    "Using the vectorizer we will generate embeddings for articles from the CORD-19 benchmark (in this tutorial, the Reuters-21578 benchmark corpus was used previously)\n",
    "\n",
    "To visualise and explore the embedding vector space in 3D we will use a dimensionality reduction technique called [T-SNE](https://distill.pub/2016/misread-tsne/).\n",
    "\n",
    "Lets get the article embeddings first."
   ]
  },
  {
   "cell_type": "code",
   "execution_count": 18,
   "metadata": {
    "ExecuteTime": {
     "end_time": "2020-03-27T05:30:34.350144Z",
     "start_time": "2020-03-27T05:30:34.009776Z"
    },
    "colab": {},
    "colab_type": "code",
    "id": "LrWW7qxLLm9Z"
   },
   "outputs": [],
   "source": [
    "import nltk\n",
    "from nltk.corpus import reuters\n",
    "nltk.data.path.append(\"../../data/nltk_data/\")\n",
    "\n",
    "# nltk.download(\"reuters\")\n",
    "# nltk.download(\"punkt\")"
   ]
  },
  {
   "cell_type": "code",
   "execution_count": 19,
   "metadata": {
    "ExecuteTime": {
     "end_time": "2020-03-27T05:30:37.019996Z",
     "start_time": "2020-03-27T05:30:36.836486Z"
    },
    "colab": {},
    "colab_type": "code",
    "id": "3pSFM8TOM1wU"
   },
   "outputs": [
    {
     "name": "stdout",
     "output_type": "stream",
     "text": [
      "wheat\n",
      "256/256 [==============================] - 3s 10ms/step\n",
      "tea\n",
      "154/154 [==============================] - 2s 10ms/step\n",
      "strategic-metal\n",
      "200/200 [==============================] - 2s 10ms/step\n",
      "housing\n",
      "139/139 [==============================] - 1s 10ms/step\n",
      "money-supply\n",
      "256/256 [==============================] - 3s 10ms/step\n",
      "fuel\n",
      "129/129 [==============================] - 1s 10ms/step\n"
     ]
    },
    {
     "data": {
      "text/plain": [
       "(1134, 768)"
      ]
     },
     "execution_count": 19,
     "metadata": {},
     "output_type": "execute_result"
    }
   ],
   "source": [
    "# REUTERS EXAMPLE\n",
    "max_samples = 256\n",
    "categories = ['wheat', 'tea', 'strategic-metal', \n",
    "              'housing', 'money-supply', 'fuel']\n",
    "\n",
    "S, X, Y = [], [], []\n",
    "\n",
    "for category in categories:\n",
    "  print(category)\n",
    "  \n",
    "  sents = reuters.sents(categories=category)\n",
    "  sents = [' '.join(sent) for sent in sents][:max_samples]\n",
    "  X.append(bert_vectorizer(sents, verbose=True))\n",
    "  Y += [category] * len(sents)\n",
    "  S += sents\n",
    "  \n",
    "X = np.vstack(X) \n",
    "X.shape"
   ]
  },
  {
   "cell_type": "code",
   "execution_count": 38,
   "metadata": {
    "ExecuteTime": {
     "end_time": "2020-03-26T22:19:53.678577Z",
     "start_time": "2020-03-26T22:19:53.257786Z"
    },
    "colab": {},
    "colab_type": "code",
    "id": "HSAPjrWkNPZX"
   },
   "outputs": [],
   "source": [
    "with open(\"embeddings.tsv\", \"w\") as fo:\n",
    "  for x in X.astype('float16'):\n",
    "    line = \"\\t\".join([str(v) for v in x])\n",
    "    fo.write(line + \"\\n\")\n",
    "\n",
    "with open(\"metadata.tsv\", \"w\") as fo:\n",
    "  fo.write(\"Label\\tSentence\\n\")\n",
    "  for y, s in zip(Y, S):\n",
    "    fo.write(\"{}\\t{}\\n\".format(y, s))"
   ]
  },
  {
   "cell_type": "markdown",
   "metadata": {
    "colab_type": "text",
    "id": "tqVYk769NiiB"
   },
   "source": [
    "The interactive visualization of generated embeddings is available on the [Embedding Projector](https://projector.tensorflow.org/?config=https://gist.githubusercontent.com/gaphex/7262af1e151957b1e7c638f4922dfe57/raw/3b946229fc58cbefbca2a642502cf51d4f8e81c5/reuters_proj_config.json). **<--CLICK THAT TO GENERATE**\n",
    "\n",
    "From the link you can run T-SNE yourself, or load a checkpoint using the bookmark in lower-right corner (loading works only on Chrome).\n",
    "\n",
    "To reproduce the input files used for this visualization, run the code below. Then, download the files to your machine and upload to Projector\n",
    "\n",
    "(you can dowload files from the menu opened by the \">\" button in the upper-left)"
   ]
  },
  {
   "cell_type": "code",
   "execution_count": 0,
   "metadata": {
    "colab": {},
    "colab_type": "code",
    "id": "bvqeITuSNjPk"
   },
   "outputs": [],
   "source": [
    "from IPython.display import HTML\n",
    "\n",
    "HTML(\"\"\"\n",
    "<video width=\"900\" height=\"632\" controls>\n",
    "  <source src=\"https://storage.googleapis.com/bert_resourses/reuters_tsne_hd.mp4\" type=\"video/mp4\">\n",
    "</video>\n",
    "\"\"\")"
   ]
  },
  {
   "cell_type": "markdown",
   "metadata": {
    "colab_type": "text",
    "id": "jSYC8R9zUH3E"
   },
   "source": [
    "### Create embeddings for CORD19 Articles\n",
    "#### Title"
   ]
  },
  {
   "cell_type": "code",
   "execution_count": 20,
   "metadata": {
    "ExecuteTime": {
     "end_time": "2020-03-27T06:17:42.466009Z",
     "start_time": "2020-03-27T06:17:42.458919Z"
    },
    "colab": {},
    "colab_type": "code",
    "id": "zNknqrSIUL5g"
   },
   "outputs": [],
   "source": [
    "# Convert pandas dataframe to nltk.corpus.reader.plaintext.CategorizedPlaintextCorpusReader\n",
    "# From: https://stackoverflow.com/questions/49088978/how-to-create-corpus-from-pandas-data-frame-to-operate-with-nltk/49104725\n",
    "def CreateCorpusFromDataFrame(corpusfolder,df):\n",
    "    for index, r in df.iterrows():\n",
    "        id=index\n",
    "        title=r['title']\n",
    "        body=r['title']\n",
    "        # handler text for not properly munged data\n",
    "        try: \n",
    "          category=re.sub('/', '', r['journal']) # remove odd characters as writing to file\n",
    "        except TypeError:\n",
    "          continue\n",
    "        fname=str(category)+'_'+str(id)+'.txt'\n",
    "        corpusfile=open(corpusfolder+'/'+fname,'a+')\n",
    "        corpusfile.write(str(body) +\" \" +str(title))\n",
    "        corpusfile.close()"
   ]
  },
  {
   "cell_type": "code",
   "execution_count": 41,
   "metadata": {
    "ExecuteTime": {
     "end_time": "2020-03-26T22:25:14.967767Z",
     "start_time": "2020-03-26T22:25:07.728873Z"
    },
    "colab": {},
    "colab_type": "code",
    "id": "XmAcjhVqV2kK"
   },
   "outputs": [
    {
     "name": "stdout",
     "output_type": "stream",
     "text": [
      "Corpus created in folder: CORD19_nltk_title_only\n"
     ]
    }
   ],
   "source": [
    "# create folder to hold CORD19 nltk\n",
    "dirName = 'CORD19_nltk_title_only'\n",
    "try:\n",
    "    # Create target Directory\n",
    "    os.mkdir(dirName)\n",
    "except FileExistsError:\n",
    "    pass\n",
    "\n",
    "# create corpus\n",
    "CreateCorpusFromDataFrame(dirName,metadata)\n",
    "print(\"Corpus created in folder: %s\" % dirName)"
   ]
  },
  {
   "cell_type": "code",
   "execution_count": 42,
   "metadata": {
    "ExecuteTime": {
     "end_time": "2020-03-27T05:21:43.626872Z",
     "start_time": "2020-03-27T05:21:43.547025Z"
    },
    "colab": {},
    "colab_type": "code",
    "id": "Yds9N-ggY4M2"
   },
   "outputs": [],
   "source": [
    "# Import the corpus reader\n",
    "from nltk.corpus.reader import CategorizedPlaintextCorpusReader\n",
    "\n",
    "# Create NLTK data structure (with pattern matching to create the article names again)\n",
    "CORD_corpus=CategorizedPlaintextCorpusReader(dirName,r'.*', cat_pattern=r'(.*)_.*.txt$') "
   ]
  },
  {
   "cell_type": "code",
   "execution_count": 44,
   "metadata": {
    "ExecuteTime": {
     "end_time": "2020-03-27T05:21:51.971038Z",
     "start_time": "2020-03-27T05:21:51.952929Z"
    },
    "colab": {},
    "colab_type": "code",
    "id": "2kGn261zN8fZ"
   },
   "outputs": [
    {
     "name": "stdout",
     "output_type": "stream",
     "text": [
      "Total number journals: 3930\n",
      "\n",
      "Picking most common journals:\n"
     ]
    },
    {
     "data": {
      "text/plain": [
       "['PLoS One',\n",
       " 'Virology',\n",
       " 'Emerg Infect Dis',\n",
       " 'Viruses',\n",
       " 'The Lancet',\n",
       " 'Sci Rep',\n",
       " 'Virus Research',\n",
       " 'Vaccine']"
      ]
     },
     "execution_count": 44,
     "metadata": {},
     "output_type": "execute_result"
    }
   ],
   "source": [
    "# total journals\n",
    "print(\"Total number journals: %s\" % (len(metadata.journal.unique())))\n",
    "\n",
    "# select a subset of journals, where the journal will be the tag\n",
    "num_journals=8\n",
    "categories=metadata['journal'].value_counts()[:num_journals].index.tolist()\n",
    "print (\"\\nPicking most common journals:\")\n",
    "categories\n",
    "\n"
   ]
  },
  {
   "cell_type": "code",
   "execution_count": 0,
   "metadata": {
    "colab": {},
    "colab_type": "code",
    "id": "v0jyk0_9LmmO"
   },
   "outputs": [],
   "source": [
    "#CORD19 Examples\n",
    "max_samples = 5000\n",
    "\n",
    "S, X, Y = [], [], []\n",
    "\n",
    "for category in categories:\n",
    "  print(category)\n",
    "  \n",
    "  sents = CORD_corpus.sents(categories=category)\n",
    "  sents = [' '.join(sent) for sent in sents][:max_samples]\n",
    "  X.append(bert_vectorizer(sents, verbose=True))\n",
    "  Y += [category] * len(sents)\n",
    "  S += sents\n",
    "  \n",
    "X = np.vstack(X) \n",
    "X.shape"
   ]
  },
  {
   "cell_type": "code",
   "execution_count": 0,
   "metadata": {
    "colab": {},
    "colab_type": "code",
    "id": "o0M5K6rEnt-X"
   },
   "outputs": [],
   "source": [
    "# make folder in google drive to download files\n",
    "location = '/content/drive/My Drive/'\n",
    "\n",
    "with open(location + \"embeddings_large.tsv\", \"w\") as fo:\n",
    "  for x in X.astype('float16'):\n",
    "    line = \"\\t\".join([str(v) for v in x])\n",
    "    fo.write(line + \"\\n\")\n",
    "\n",
    "with open(location + \"metadata_large.tsv\", \"w\") as fo:\n",
    "  fo.write(\"Label\\tSentence\\n\")\n",
    "  for y, s in zip(Y, S):\n",
    "    fo.write(\"{}\\t{}\\n\".format(y, s))"
   ]
  },
  {
   "cell_type": "markdown",
   "metadata": {
    "colab_type": "text",
    "id": "D3JbwudUnzrU"
   },
   "source": [
    "The interactive visualization of generated embeddings is available on the [Embedding Projector](https://projector.tensorflow.org/?config=https://gist.githubusercontent.com/gaphex/7262af1e151957b1e7c638f4922dfe57/raw/3b946229fc58cbefbca2a642502cf51d4f8e81c5/reuters_proj_config.json). **<--CLICK THAT TO GENERATE**\n",
    "\n",
    "Then go to bottom right and load in those files"
   ]
  },
  {
   "cell_type": "markdown",
   "metadata": {},
   "source": [
    "# Bert encoding of tasks."
   ]
  },
  {
   "cell_type": "code",
   "execution_count": 22,
   "metadata": {
    "ExecuteTime": {
     "end_time": "2020-03-27T06:22:12.868506Z",
     "start_time": "2020-03-27T06:22:12.859488Z"
    }
   },
   "outputs": [
    {
     "data": {
      "text/html": [
       "<div>\n",
       "<style scoped>\n",
       "    .dataframe tbody tr th:only-of-type {\n",
       "        vertical-align: middle;\n",
       "    }\n",
       "\n",
       "    .dataframe tbody tr th {\n",
       "        vertical-align: top;\n",
       "    }\n",
       "\n",
       "    .dataframe thead th {\n",
       "        text-align: right;\n",
       "    }\n",
       "</style>\n",
       "<table border=\"1\" class=\"dataframe\">\n",
       "  <thead>\n",
       "    <tr style=\"text-align: right;\">\n",
       "      <th></th>\n",
       "      <th>Task</th>\n",
       "      <th>Keywords</th>\n",
       "    </tr>\n",
       "  </thead>\n",
       "  <tbody>\n",
       "    <tr>\n",
       "      <th>0</th>\n",
       "      <td>What is known about transmission, incubation, ...</td>\n",
       "      <td>transmission incubation environment coronavirus</td>\n",
       "    </tr>\n",
       "    <tr>\n",
       "      <th>1</th>\n",
       "      <td>What do we know about COVID-19 risk factors?</td>\n",
       "      <td>risk factors</td>\n",
       "    </tr>\n",
       "    <tr>\n",
       "      <th>2</th>\n",
       "      <td>What do we know about virus genetics, origin, ...</td>\n",
       "      <td>genetics origin evolution</td>\n",
       "    </tr>\n",
       "    <tr>\n",
       "      <th>3</th>\n",
       "      <td>What has been published about ethical and soci...</td>\n",
       "      <td>ethics ethical social</td>\n",
       "    </tr>\n",
       "    <tr>\n",
       "      <th>4</th>\n",
       "      <td>What do we know about diagnostics and surveill...</td>\n",
       "      <td>diagnose diagnostic surveillance</td>\n",
       "    </tr>\n",
       "    <tr>\n",
       "      <th>5</th>\n",
       "      <td>What has been published about medical care?</td>\n",
       "      <td>medical care</td>\n",
       "    </tr>\n",
       "    <tr>\n",
       "      <th>6</th>\n",
       "      <td>What do we know about vaccines and therapeutics?</td>\n",
       "      <td>vaccines vaccine vaccinate therapeutic therape...</td>\n",
       "    </tr>\n",
       "  </tbody>\n",
       "</table>\n",
       "</div>"
      ],
      "text/plain": [
       "                                                Task  \\\n",
       "0  What is known about transmission, incubation, ...   \n",
       "1       What do we know about COVID-19 risk factors?   \n",
       "2  What do we know about virus genetics, origin, ...   \n",
       "3  What has been published about ethical and soci...   \n",
       "4  What do we know about diagnostics and surveill...   \n",
       "5        What has been published about medical care?   \n",
       "6   What do we know about vaccines and therapeutics?   \n",
       "\n",
       "                                            Keywords  \n",
       "0    transmission incubation environment coronavirus  \n",
       "1                                       risk factors  \n",
       "2                          genetics origin evolution  \n",
       "3                              ethics ethical social  \n",
       "4                   diagnose diagnostic surveillance  \n",
       "5                                       medical care  \n",
       "6  vaccines vaccine vaccinate therapeutic therape...  "
      ]
     },
     "execution_count": 22,
     "metadata": {},
     "output_type": "execute_result"
    }
   ],
   "source": [
    "tasks"
   ]
  },
  {
   "cell_type": "code",
   "execution_count": 90,
   "metadata": {
    "ExecuteTime": {
     "end_time": "2020-03-27T06:24:34.231889Z",
     "start_time": "2020-03-27T06:24:31.575400Z"
    }
   },
   "outputs": [
    {
     "name": "stdout",
     "output_type": "stream",
     "text": [
      "7/7 [==============================] - 0s 16ms/step\n",
      "7/7 [==============================] - 0s 13ms/step\n"
     ]
    }
   ],
   "source": [
    "tasks_bert = bert_vectorizer(tasks['Task'], verbose=True)\n",
    "keywords_bert = bert_vectorizer(tasks['Keywords'], verbose=True)"
   ]
  },
  {
   "cell_type": "markdown",
   "metadata": {},
   "source": [
    "# titles contain NA, dropped"
   ]
  },
  {
   "cell_type": "code",
   "execution_count": 24,
   "metadata": {
    "ExecuteTime": {
     "end_time": "2020-03-27T07:05:23.793568Z",
     "start_time": "2020-03-27T07:05:23.788095Z"
    }
   },
   "outputs": [
    {
     "data": {
      "text/plain": [
       "(42938, 15)"
      ]
     },
     "execution_count": 24,
     "metadata": {},
     "output_type": "execute_result"
    }
   ],
   "source": [
    "metadata.shape"
   ]
  },
  {
   "cell_type": "code",
   "execution_count": 31,
   "metadata": {},
   "outputs": [
    {
     "data": {
      "text/plain": [
       "(42714, 15)"
      ]
     },
     "execution_count": 31,
     "metadata": {},
     "output_type": "execute_result"
    }
   ],
   "source": [
    "metadata.dropna(subset=['abstract', 'title'], inplace=True)\n",
    "metadata.shape"
   ]
  },
  {
   "cell_type": "markdown",
   "metadata": {},
   "source": [
    "# Bert embedding of titles"
   ]
  },
  {
   "cell_type": "code",
   "execution_count": 32,
   "metadata": {
    "ExecuteTime": {
     "end_time": "2020-03-27T06:34:01.540647Z",
     "start_time": "2020-03-27T06:29:11.240030Z"
    }
   },
   "outputs": [
    {
     "name": "stdout",
     "output_type": "stream",
     "text": [
      "42714/42714 [==============================] - 447s 10ms/step\n"
     ]
    }
   ],
   "source": [
    "titles_bert = bert_vectorizer(metadata['title'], verbose = True)"
   ]
  },
  {
   "cell_type": "code",
   "execution_count": 33,
   "metadata": {},
   "outputs": [
    {
     "name": "stdout",
     "output_type": "stream",
     "text": [
      "42714/42714 [==============================] - 612s 14ms/step\n"
     ]
    }
   ],
   "source": [
    "abstracts_bert = bert_vectorizer(metadata['abstract'], verbose = True)"
   ]
  },
  {
   "cell_type": "markdown",
   "metadata": {},
   "source": [
    "# Euclidean dist"
   ]
  },
  {
   "cell_type": "code",
   "execution_count": 85,
   "metadata": {},
   "outputs": [
    {
     "data": {
      "text/html": [
       "<div>\n",
       "<style scoped>\n",
       "    .dataframe tbody tr th:only-of-type {\n",
       "        vertical-align: middle;\n",
       "    }\n",
       "\n",
       "    .dataframe tbody tr th {\n",
       "        vertical-align: top;\n",
       "    }\n",
       "\n",
       "    .dataframe thead th {\n",
       "        text-align: right;\n",
       "    }\n",
       "</style>\n",
       "<table border=\"1\" class=\"dataframe\">\n",
       "  <thead>\n",
       "    <tr style=\"text-align: right;\">\n",
       "      <th></th>\n",
       "      <th>Task</th>\n",
       "      <th>Keywords</th>\n",
       "    </tr>\n",
       "  </thead>\n",
       "  <tbody>\n",
       "    <tr>\n",
       "      <th>0</th>\n",
       "      <td>What is known about transmission, incubation, and environmental stability?</td>\n",
       "      <td>transmission incubation environment coronavirus</td>\n",
       "    </tr>\n",
       "    <tr>\n",
       "      <th>1</th>\n",
       "      <td>What do we know about COVID-19 risk factors?</td>\n",
       "      <td>risk factors</td>\n",
       "    </tr>\n",
       "    <tr>\n",
       "      <th>2</th>\n",
       "      <td>What do we know about virus genetics, origin, and evolution?</td>\n",
       "      <td>genetics origin evolution</td>\n",
       "    </tr>\n",
       "    <tr>\n",
       "      <th>3</th>\n",
       "      <td>What has been published about ethical and social science considerations</td>\n",
       "      <td>ethics ethical social</td>\n",
       "    </tr>\n",
       "    <tr>\n",
       "      <th>4</th>\n",
       "      <td>What do we know about diagnostics and surveillance?</td>\n",
       "      <td>diagnose diagnostic surveillance</td>\n",
       "    </tr>\n",
       "    <tr>\n",
       "      <th>5</th>\n",
       "      <td>What has been published about medical care?</td>\n",
       "      <td>medical care</td>\n",
       "    </tr>\n",
       "    <tr>\n",
       "      <th>6</th>\n",
       "      <td>What do we know about vaccines and therapeutics?</td>\n",
       "      <td>vaccines vaccine vaccinate therapeutic therapeutics</td>\n",
       "    </tr>\n",
       "  </tbody>\n",
       "</table>\n",
       "</div>"
      ],
      "text/plain": [
       "                                                                         Task                                             Keywords\n",
       "0  What is known about transmission, incubation, and environmental stability?      transmission incubation environment coronavirus\n",
       "1                                What do we know about COVID-19 risk factors?                                         risk factors\n",
       "2                What do we know about virus genetics, origin, and evolution?                            genetics origin evolution\n",
       "3     What has been published about ethical and social science considerations                                ethics ethical social\n",
       "4                         What do we know about diagnostics and surveillance?                     diagnose diagnostic surveillance\n",
       "5                                 What has been published about medical care?                                         medical care\n",
       "6                            What do we know about vaccines and therapeutics?  vaccines vaccine vaccinate therapeutic therapeutics"
      ]
     },
     "execution_count": 85,
     "metadata": {},
     "output_type": "execute_result"
    }
   ],
   "source": [
    "tasks"
   ]
  },
  {
   "cell_type": "code",
   "execution_count": 131,
   "metadata": {},
   "outputs": [
    {
     "data": {
      "text/html": [
       "<div>\n",
       "<style scoped>\n",
       "    .dataframe tbody tr th:only-of-type {\n",
       "        vertical-align: middle;\n",
       "    }\n",
       "\n",
       "    .dataframe tbody tr th {\n",
       "        vertical-align: top;\n",
       "    }\n",
       "\n",
       "    .dataframe thead th {\n",
       "        text-align: right;\n",
       "    }\n",
       "</style>\n",
       "<table border=\"1\" class=\"dataframe\">\n",
       "  <thead>\n",
       "    <tr style=\"text-align: right;\">\n",
       "      <th></th>\n",
       "      <th>title</th>\n",
       "      <th>abstract</th>\n",
       "      <th>publish_time</th>\n",
       "    </tr>\n",
       "  </thead>\n",
       "  <tbody>\n",
       "    <tr>\n",
       "      <th>0</th>\n",
       "      <td>Intrauterine virus infections and congenital heart disease</td>\n",
       "      <td>Abstract The etiologic basis for the vast majority of cases of congenital heart disease remains ...</td>\n",
       "      <td>1972-12-31</td>\n",
       "    </tr>\n",
       "    <tr>\n",
       "      <th>1</th>\n",
       "      <td>Coronaviruses in Balkan nephritis</td>\n",
       "      <td>Coronaviruses in Balkan nephritis</td>\n",
       "      <td>1980-03-31</td>\n",
       "    </tr>\n",
       "    <tr>\n",
       "      <th>2</th>\n",
       "      <td>Cigarette smoking and coronary heart disease: new evidence and old reactions</td>\n",
       "      <td>Cigarette smoking and coronary heart disease: new evidence and old reactions</td>\n",
       "      <td>1980-03-31</td>\n",
       "    </tr>\n",
       "    <tr>\n",
       "      <th>3</th>\n",
       "      <td>Clinical and immunologic studies in identical twins discordant for systemic lupus erythematosus</td>\n",
       "      <td>Abstract Middle-aged female identical twins, one of whom had systemic lupus erythematosus (SLE),...</td>\n",
       "      <td>1973-08-31</td>\n",
       "    </tr>\n",
       "    <tr>\n",
       "      <th>4</th>\n",
       "      <td>Epidemiology of community-acquired respiratory tract infections in adults Incidence, etiology, a...</td>\n",
       "      <td>Abstract Upper respiratory tract infections are the most common types of infectious diseases amo...</td>\n",
       "      <td>1985-06-28</td>\n",
       "    </tr>\n",
       "    <tr>\n",
       "      <th>...</th>\n",
       "      <td>...</td>\n",
       "      <td>...</td>\n",
       "      <td>...</td>\n",
       "    </tr>\n",
       "    <tr>\n",
       "      <th>42933</th>\n",
       "      <td>Epidemiology and clinical profile of pathogens responsible for the hospitalization of children i...</td>\n",
       "      <td>This study aimed to identify a broad spectrum of respiratory pathogens from hospitalized and not...</td>\n",
       "      <td>2017 Nov 17</td>\n",
       "    </tr>\n",
       "    <tr>\n",
       "      <th>42934</th>\n",
       "      <td>Functional Analysis of the Transmembrane Domain in Paramyxovirus F Protein-Mediated Membrane Fusion</td>\n",
       "      <td>Abstract To enter cells, enveloped viruses use fusion-mediating glycoproteins to facilitate the ...</td>\n",
       "      <td>2009-02-13</td>\n",
       "    </tr>\n",
       "    <tr>\n",
       "      <th>42935</th>\n",
       "      <td>Viral Entry Properties Required for Fitness in Humans Are Lost through Rapid Genomic Change duri...</td>\n",
       "      <td>Human parainfluenza viruses cause a large burden of human respiratory illness. While much resear...</td>\n",
       "      <td>2018 Jul 3</td>\n",
       "    </tr>\n",
       "    <tr>\n",
       "      <th>42936</th>\n",
       "      <td>Arenavirus reverse genetics: New approaches for the investigation of arenavirus biology and deve...</td>\n",
       "      <td>Abstract Several arenaviruses, chiefly Lassa virus, cause hemorrhagic fever disease in humans an...</td>\n",
       "      <td>2011-03-15</td>\n",
       "    </tr>\n",
       "    <tr>\n",
       "      <th>42937</th>\n",
       "      <td>A New Immunosuppressive Molecule Emodin Induces both CD4(+)FoxP3(+) and CD8(+)CD122(+) Regulator...</td>\n",
       "      <td>Due to vigorous alloimmunity, an allograft is usually rejected without any conventional immunosu...</td>\n",
       "      <td>2017 Nov 8</td>\n",
       "    </tr>\n",
       "  </tbody>\n",
       "</table>\n",
       "<p>42714 rows × 3 columns</p>\n",
       "</div>"
      ],
      "text/plain": [
       "                                                                                                     title                                                                                             abstract publish_time\n",
       "0                                               Intrauterine virus infections and congenital heart disease  Abstract The etiologic basis for the vast majority of cases of congenital heart disease remains ...   1972-12-31\n",
       "1                                                                        Coronaviruses in Balkan nephritis                                                                    Coronaviruses in Balkan nephritis   1980-03-31\n",
       "2                             Cigarette smoking and coronary heart disease: new evidence and old reactions                         Cigarette smoking and coronary heart disease: new evidence and old reactions   1980-03-31\n",
       "3          Clinical and immunologic studies in identical twins discordant for systemic lupus erythematosus  Abstract Middle-aged female identical twins, one of whom had systemic lupus erythematosus (SLE),...   1973-08-31\n",
       "4      Epidemiology of community-acquired respiratory tract infections in adults Incidence, etiology, a...  Abstract Upper respiratory tract infections are the most common types of infectious diseases amo...   1985-06-28\n",
       "...                                                                                                    ...                                                                                                  ...          ...\n",
       "42933  Epidemiology and clinical profile of pathogens responsible for the hospitalization of children i...  This study aimed to identify a broad spectrum of respiratory pathogens from hospitalized and not...  2017 Nov 17\n",
       "42934  Functional Analysis of the Transmembrane Domain in Paramyxovirus F Protein-Mediated Membrane Fusion  Abstract To enter cells, enveloped viruses use fusion-mediating glycoproteins to facilitate the ...   2009-02-13\n",
       "42935  Viral Entry Properties Required for Fitness in Humans Are Lost through Rapid Genomic Change duri...  Human parainfluenza viruses cause a large burden of human respiratory illness. While much resear...   2018 Jul 3\n",
       "42936  Arenavirus reverse genetics: New approaches for the investigation of arenavirus biology and deve...  Abstract Several arenaviruses, chiefly Lassa virus, cause hemorrhagic fever disease in humans an...   2011-03-15\n",
       "42937  A New Immunosuppressive Molecule Emodin Induces both CD4(+)FoxP3(+) and CD8(+)CD122(+) Regulator...  Due to vigorous alloimmunity, an allograft is usually rejected without any conventional immunosu...   2017 Nov 8\n",
       "\n",
       "[42714 rows x 3 columns]"
      ]
     },
     "execution_count": 131,
     "metadata": {},
     "output_type": "execute_result"
    }
   ],
   "source": [
    "metadata[['title', 'abstract', 'publish_time']]"
   ]
  },
  {
   "cell_type": "markdown",
   "metadata": {},
   "source": [
    "## 1. euc dist between `article title` and `task string`"
   ]
  },
  {
   "cell_type": "code",
   "execution_count": 44,
   "metadata": {},
   "outputs": [],
   "source": [
    "euc_mat = distance_matrix(titles_bert, tasks_bert, p = 2)"
   ]
  },
  {
   "cell_type": "markdown",
   "metadata": {},
   "source": [
    "### Ranking by 1st task"
   ]
  },
  {
   "cell_type": "code",
   "execution_count": 132,
   "metadata": {
    "scrolled": false
   },
   "outputs": [
    {
     "data": {
      "text/html": [
       "<div>\n",
       "<style scoped>\n",
       "    .dataframe tbody tr th:only-of-type {\n",
       "        vertical-align: middle;\n",
       "    }\n",
       "\n",
       "    .dataframe tbody tr th {\n",
       "        vertical-align: top;\n",
       "    }\n",
       "\n",
       "    .dataframe thead th {\n",
       "        text-align: right;\n",
       "    }\n",
       "</style>\n",
       "<table border=\"1\" class=\"dataframe\">\n",
       "  <thead>\n",
       "    <tr style=\"text-align: right;\">\n",
       "      <th></th>\n",
       "      <th>title</th>\n",
       "      <th>abstract</th>\n",
       "      <th>publish_time</th>\n",
       "      <th>(What is known about transmission, incubation, and environmental stability?,)</th>\n",
       "      <th>(What do we know about COVID-19 risk factors?,)</th>\n",
       "      <th>(What do we know about virus genetics, origin, and evolution?,)</th>\n",
       "      <th>(What has been published about ethical and social science considerations,)</th>\n",
       "      <th>(What do we know about diagnostics and surveillance?,)</th>\n",
       "      <th>(What has been published about medical care?,)</th>\n",
       "      <th>(What do we know about vaccines and therapeutics?,)</th>\n",
       "    </tr>\n",
       "  </thead>\n",
       "  <tbody>\n",
       "    <tr>\n",
       "      <th>4514</th>\n",
       "      <td>Does reduced MHC diversity decrease viability of vertebrate populations?</td>\n",
       "      <td>Abstract Loss of genetic variation may render populations more vulnerable to pathogens due to in...</td>\n",
       "      <td>2010-03-31</td>\n",
       "      <td>7.471977</td>\n",
       "      <td>8.262564</td>\n",
       "      <td>8.146552</td>\n",
       "      <td>10.062410</td>\n",
       "      <td>9.388145</td>\n",
       "      <td>9.720213</td>\n",
       "      <td>8.880879</td>\n",
       "    </tr>\n",
       "    <tr>\n",
       "      <th>15019</th>\n",
       "      <td>What is the importance of zoonotic trichomonads for human health?</td>\n",
       "      <td>Trichomonads are common parasites of many vertebrate and invertebrate species, with four species...</td>\n",
       "      <td>2014-07-31</td>\n",
       "      <td>7.545735</td>\n",
       "      <td>7.035960</td>\n",
       "      <td>7.121302</td>\n",
       "      <td>9.467658</td>\n",
       "      <td>8.368005</td>\n",
       "      <td>8.876764</td>\n",
       "      <td>7.280060</td>\n",
       "    </tr>\n",
       "    <tr>\n",
       "      <th>31649</th>\n",
       "      <td>What can we predict about viral evolution and emergence?</td>\n",
       "      <td>Predicting the emergence of infectious diseases has been touted as one of the most important goa...</td>\n",
       "      <td>NaN</td>\n",
       "      <td>7.561812</td>\n",
       "      <td>6.478772</td>\n",
       "      <td>5.380471</td>\n",
       "      <td>8.933305</td>\n",
       "      <td>6.696497</td>\n",
       "      <td>7.961433</td>\n",
       "      <td>6.213515</td>\n",
       "    </tr>\n",
       "    <tr>\n",
       "      <th>22840</th>\n",
       "      <td>Dengue Virus Glycosylation: What Do We Know?</td>\n",
       "      <td>In many infectious diseases caused by either viruses or bacteria, pathogen glycoproteins play im...</td>\n",
       "      <td>2017 Jul 25</td>\n",
       "      <td>7.669997</td>\n",
       "      <td>6.886530</td>\n",
       "      <td>6.838970</td>\n",
       "      <td>9.753249</td>\n",
       "      <td>8.235622</td>\n",
       "      <td>9.339000</td>\n",
       "      <td>7.297268</td>\n",
       "    </tr>\n",
       "    <tr>\n",
       "      <th>33133</th>\n",
       "      <td>Emerging diseases in Chiroptera: why bats?</td>\n",
       "      <td>A conference entitled ‘2nd International Berlin Bat Meeting: Bat Biology and Infectious Diseases...</td>\n",
       "      <td>NaN</td>\n",
       "      <td>7.684107</td>\n",
       "      <td>7.700914</td>\n",
       "      <td>7.297066</td>\n",
       "      <td>9.376574</td>\n",
       "      <td>8.341376</td>\n",
       "      <td>8.819533</td>\n",
       "      <td>7.898508</td>\n",
       "    </tr>\n",
       "    <tr>\n",
       "      <th>...</th>\n",
       "      <td>...</td>\n",
       "      <td>...</td>\n",
       "      <td>...</td>\n",
       "      <td>...</td>\n",
       "      <td>...</td>\n",
       "      <td>...</td>\n",
       "      <td>...</td>\n",
       "      <td>...</td>\n",
       "      <td>...</td>\n",
       "      <td>...</td>\n",
       "    </tr>\n",
       "    <tr>\n",
       "      <th>19523</th>\n",
       "      <td>1,3-Diphenyl-4,5-dihydro-1H-pyrazol-5-one</td>\n",
       "      <td>In the title pyrazolone derivative, C(15)H(12)N(2)O, the five-membered ring is approximately pla...</td>\n",
       "      <td>2012 Mar 10</td>\n",
       "      <td>16.430590</td>\n",
       "      <td>14.615978</td>\n",
       "      <td>15.655774</td>\n",
       "      <td>16.230066</td>\n",
       "      <td>16.086476</td>\n",
       "      <td>16.607075</td>\n",
       "      <td>15.287028</td>\n",
       "    </tr>\n",
       "    <tr>\n",
       "      <th>19953</th>\n",
       "      <td>Ethyl 4-(5-bromo-1H-indol-3-yl)-2,6,6-trimethyl-5-oxo-1,4,5,6,7,8-hexa­hydro­quinoline-3-carboxy...</td>\n",
       "      <td>The title compound, C(23)H(25)BrN(2)O(3), crystallizes with two independent mol­ecules in the as...</td>\n",
       "      <td>2012 Nov 24</td>\n",
       "      <td>16.520008</td>\n",
       "      <td>14.794494</td>\n",
       "      <td>15.789667</td>\n",
       "      <td>16.342148</td>\n",
       "      <td>16.281157</td>\n",
       "      <td>16.946889</td>\n",
       "      <td>15.546038</td>\n",
       "    </tr>\n",
       "    <tr>\n",
       "      <th>4162</th>\n",
       "      <td>Nowo pojawiające się choroby zakaźne w aspekcie bezpieczeństwa krwi</td>\n",
       "      <td>Abstract The risk of transfusion-related infectious diseases, the markers for which are routinel...</td>\n",
       "      <td>2013-09-30</td>\n",
       "      <td>16.528353</td>\n",
       "      <td>15.753838</td>\n",
       "      <td>15.839911</td>\n",
       "      <td>16.539292</td>\n",
       "      <td>15.951589</td>\n",
       "      <td>16.391425</td>\n",
       "      <td>15.952603</td>\n",
       "    </tr>\n",
       "    <tr>\n",
       "      <th>32346</th>\n",
       "      <td>CD133作为肺癌干细胞标记物的应用及其局限性</td>\n",
       "      <td>Lung cancer is one of the most common tumor, which lacks of effective clinical treatment to lead...</td>\n",
       "      <td>NaN</td>\n",
       "      <td>18.073277</td>\n",
       "      <td>17.089324</td>\n",
       "      <td>17.671355</td>\n",
       "      <td>18.142165</td>\n",
       "      <td>17.625425</td>\n",
       "      <td>17.349947</td>\n",
       "      <td>17.329107</td>\n",
       "    </tr>\n",
       "    <tr>\n",
       "      <th>32988</th>\n",
       "      <td>应用多肽芯片研究非小细胞肺癌患者血清中的EGFR自身抗体</td>\n",
       "      <td>BACKGROUND AND OBJECTIVE: Autoantibodies as new tumor markers may play an important role in the ...</td>\n",
       "      <td>NaN</td>\n",
       "      <td>18.343298</td>\n",
       "      <td>17.378610</td>\n",
       "      <td>17.933119</td>\n",
       "      <td>18.359375</td>\n",
       "      <td>17.843737</td>\n",
       "      <td>17.626204</td>\n",
       "      <td>17.595233</td>\n",
       "    </tr>\n",
       "  </tbody>\n",
       "</table>\n",
       "<p>42714 rows × 10 columns</p>\n",
       "</div>"
      ],
      "text/plain": [
       "                                                                                                     title                                                                                             abstract publish_time  (What is known about transmission, incubation, and environmental stability?,)  (What do we know about COVID-19 risk factors?,)  (What do we know about virus genetics, origin, and evolution?,)  (What has been published about ethical and social science considerations,)  (What do we know about diagnostics and surveillance?,)  (What has been published about medical care?,)  (What do we know about vaccines and therapeutics?,)\n",
       "4514                              Does reduced MHC diversity decrease viability of vertebrate populations?  Abstract Loss of genetic variation may render populations more vulnerable to pathogens due to in...   2010-03-31                                                                       7.471977                                         8.262564                                                         8.146552                                                                   10.062410                                                9.388145                                        9.720213                                             8.880879\n",
       "15019                                    What is the importance of zoonotic trichomonads for human health?  Trichomonads are common parasites of many vertebrate and invertebrate species, with four species...   2014-07-31                                                                       7.545735                                         7.035960                                                         7.121302                                                                    9.467658                                                8.368005                                        8.876764                                             7.280060\n",
       "31649                                             What can we predict about viral evolution and emergence?  Predicting the emergence of infectious diseases has been touted as one of the most important goa...          NaN                                                                       7.561812                                         6.478772                                                         5.380471                                                                    8.933305                                                6.696497                                        7.961433                                             6.213515\n",
       "22840                                                         Dengue Virus Glycosylation: What Do We Know?  In many infectious diseases caused by either viruses or bacteria, pathogen glycoproteins play im...  2017 Jul 25                                                                       7.669997                                         6.886530                                                         6.838970                                                                    9.753249                                                8.235622                                        9.339000                                             7.297268\n",
       "33133                                                           Emerging diseases in Chiroptera: why bats?  A conference entitled ‘2nd International Berlin Bat Meeting: Bat Biology and Infectious Diseases...          NaN                                                                       7.684107                                         7.700914                                                         7.297066                                                                    9.376574                                                8.341376                                        8.819533                                             7.898508\n",
       "...                                                                                                    ...                                                                                                  ...          ...                                                                            ...                                              ...                                                              ...                                                                         ...                                                     ...                                             ...                                                  ...\n",
       "19523                                                            1,3-Diphenyl-4,5-dihydro-1H-pyrazol-5-one  In the title pyrazolone derivative, C(15)H(12)N(2)O, the five-membered ring is approximately pla...  2012 Mar 10                                                                      16.430590                                        14.615978                                                        15.655774                                                                   16.230066                                               16.086476                                       16.607075                                            15.287028\n",
       "19953  Ethyl 4-(5-bromo-1H-indol-3-yl)-2,6,6-trimethyl-5-oxo-1,4,5,6,7,8-hexa­hydro­quinoline-3-carboxy...  The title compound, C(23)H(25)BrN(2)O(3), crystallizes with two independent mol­ecules in the as...  2012 Nov 24                                                                      16.520008                                        14.794494                                                        15.789667                                                                   16.342148                                               16.281157                                       16.946889                                            15.546038\n",
       "4162                                   Nowo pojawiające się choroby zakaźne w aspekcie bezpieczeństwa krwi  Abstract The risk of transfusion-related infectious diseases, the markers for which are routinel...   2013-09-30                                                                      16.528353                                        15.753838                                                        15.839911                                                                   16.539292                                               15.951589                                       16.391425                                            15.952603\n",
       "32346                                                                              CD133作为肺癌干细胞标记物的应用及其局限性  Lung cancer is one of the most common tumor, which lacks of effective clinical treatment to lead...          NaN                                                                      18.073277                                        17.089324                                                        17.671355                                                                   18.142165                                               17.625425                                       17.349947                                            17.329107\n",
       "32988                                                                         应用多肽芯片研究非小细胞肺癌患者血清中的EGFR自身抗体  BACKGROUND AND OBJECTIVE: Autoantibodies as new tumor markers may play an important role in the ...          NaN                                                                      18.343298                                        17.378610                                                        17.933119                                                                   18.359375                                               17.843737                                       17.626204                                            17.595233\n",
       "\n",
       "[42714 rows x 10 columns]"
      ]
     },
     "execution_count": 132,
     "metadata": {},
     "output_type": "execute_result"
    }
   ],
   "source": [
    "euc_titles_tasks = pd.DataFrame(euc_mat, columns=[tasks['Task']], index=metadata.index)\n",
    "combined = pd.concat([metadata[['title', 'abstract', 'publish_time']], euc_titles_tasks], axis=1)\n",
    "combined.sort_values(by=[euc_titles_tasks.columns[0]], axis = 0, ascending=True)"
   ]
  },
  {
   "cell_type": "markdown",
   "metadata": {},
   "source": [
    "### Ranking by 2nd task"
   ]
  },
  {
   "cell_type": "code",
   "execution_count": 133,
   "metadata": {},
   "outputs": [
    {
     "data": {
      "text/html": [
       "<div>\n",
       "<style scoped>\n",
       "    .dataframe tbody tr th:only-of-type {\n",
       "        vertical-align: middle;\n",
       "    }\n",
       "\n",
       "    .dataframe tbody tr th {\n",
       "        vertical-align: top;\n",
       "    }\n",
       "\n",
       "    .dataframe thead th {\n",
       "        text-align: right;\n",
       "    }\n",
       "</style>\n",
       "<table border=\"1\" class=\"dataframe\">\n",
       "  <thead>\n",
       "    <tr style=\"text-align: right;\">\n",
       "      <th></th>\n",
       "      <th>title</th>\n",
       "      <th>abstract</th>\n",
       "      <th>publish_time</th>\n",
       "      <th>(What is known about transmission, incubation, and environmental stability?,)</th>\n",
       "      <th>(What do we know about COVID-19 risk factors?,)</th>\n",
       "      <th>(What do we know about virus genetics, origin, and evolution?,)</th>\n",
       "      <th>(What has been published about ethical and social science considerations,)</th>\n",
       "      <th>(What do we know about diagnostics and surveillance?,)</th>\n",
       "      <th>(What has been published about medical care?,)</th>\n",
       "      <th>(What do we know about vaccines and therapeutics?,)</th>\n",
       "    </tr>\n",
       "  </thead>\n",
       "  <tbody>\n",
       "    <tr>\n",
       "      <th>42520</th>\n",
       "      <td>What are the risks of COVID-19 infection in pregnant women?</td>\n",
       "      <td>What are the risks of COVID-19 infection in pregnant women?</td>\n",
       "      <td>2020-03-13</td>\n",
       "      <td>8.289875</td>\n",
       "      <td>5.980003</td>\n",
       "      <td>8.107699</td>\n",
       "      <td>10.069599</td>\n",
       "      <td>8.934867</td>\n",
       "      <td>9.449055</td>\n",
       "      <td>8.218084</td>\n",
       "    </tr>\n",
       "    <tr>\n",
       "      <th>38952</th>\n",
       "      <td>From Isolation to Coordination: How Can Telemedicine Help Combat the COVID-19 Outbreak?</td>\n",
       "      <td>The rapid spread of Coronavirus disease 2019 (COVID-19) presents China with a critical challenge...</td>\n",
       "      <td>2020-02-23</td>\n",
       "      <td>8.875359</td>\n",
       "      <td>6.330186</td>\n",
       "      <td>8.247651</td>\n",
       "      <td>10.166074</td>\n",
       "      <td>8.425106</td>\n",
       "      <td>9.476560</td>\n",
       "      <td>8.095946</td>\n",
       "    </tr>\n",
       "    <tr>\n",
       "      <th>39211</th>\n",
       "      <td>If containment is not possible, how do we minimize mortality for COVID-19 and other emerging inf...</td>\n",
       "      <td>If COVID-19 containment policies fail and social distancing measures cannot be sustained until v...</td>\n",
       "      <td>2020-03-17</td>\n",
       "      <td>8.304019</td>\n",
       "      <td>6.363608</td>\n",
       "      <td>7.696973</td>\n",
       "      <td>10.311798</td>\n",
       "      <td>8.176689</td>\n",
       "      <td>9.653903</td>\n",
       "      <td>7.814902</td>\n",
       "    </tr>\n",
       "    <tr>\n",
       "      <th>31649</th>\n",
       "      <td>What can we predict about viral evolution and emergence?</td>\n",
       "      <td>Predicting the emergence of infectious diseases has been touted as one of the most important goa...</td>\n",
       "      <td>NaN</td>\n",
       "      <td>7.561812</td>\n",
       "      <td>6.478772</td>\n",
       "      <td>5.380471</td>\n",
       "      <td>8.933305</td>\n",
       "      <td>6.696497</td>\n",
       "      <td>7.961433</td>\n",
       "      <td>6.213515</td>\n",
       "    </tr>\n",
       "    <tr>\n",
       "      <th>31003</th>\n",
       "      <td>Host genome polymorphisms and tuberculosis infection: What we have to say?</td>\n",
       "      <td>Several epidemiology studies suggest that host genetic factors play important roles in susceptib...</td>\n",
       "      <td>NaN</td>\n",
       "      <td>8.363339</td>\n",
       "      <td>6.533615</td>\n",
       "      <td>6.597945</td>\n",
       "      <td>8.497352</td>\n",
       "      <td>7.196075</td>\n",
       "      <td>7.770903</td>\n",
       "      <td>6.609006</td>\n",
       "    </tr>\n",
       "    <tr>\n",
       "      <th>...</th>\n",
       "      <td>...</td>\n",
       "      <td>...</td>\n",
       "      <td>...</td>\n",
       "      <td>...</td>\n",
       "      <td>...</td>\n",
       "      <td>...</td>\n",
       "      <td>...</td>\n",
       "      <td>...</td>\n",
       "      <td>...</td>\n",
       "      <td>...</td>\n",
       "    </tr>\n",
       "    <tr>\n",
       "      <th>11507</th>\n",
       "      <td>On vous demande, sachez répondre</td>\n",
       "      <td>On vous demande, sachez répondre</td>\n",
       "      <td>2014-03-31</td>\n",
       "      <td>15.678123</td>\n",
       "      <td>15.197685</td>\n",
       "      <td>15.241371</td>\n",
       "      <td>15.558457</td>\n",
       "      <td>15.224225</td>\n",
       "      <td>15.614729</td>\n",
       "      <td>15.245713</td>\n",
       "    </tr>\n",
       "    <tr>\n",
       "      <th>5462</th>\n",
       "      <td>SARS: Solución mediante Acciones y Respuestas Sensatas</td>\n",
       "      <td>SARS: Solución mediante Acciones y Respuestas Sensatas</td>\n",
       "      <td>2004-10-31</td>\n",
       "      <td>15.649980</td>\n",
       "      <td>15.320809</td>\n",
       "      <td>15.204449</td>\n",
       "      <td>15.386911</td>\n",
       "      <td>15.083672</td>\n",
       "      <td>15.625673</td>\n",
       "      <td>15.203720</td>\n",
       "    </tr>\n",
       "    <tr>\n",
       "      <th>4162</th>\n",
       "      <td>Nowo pojawiające się choroby zakaźne w aspekcie bezpieczeństwa krwi</td>\n",
       "      <td>Abstract The risk of transfusion-related infectious diseases, the markers for which are routinel...</td>\n",
       "      <td>2013-09-30</td>\n",
       "      <td>16.528353</td>\n",
       "      <td>15.753838</td>\n",
       "      <td>15.839911</td>\n",
       "      <td>16.539292</td>\n",
       "      <td>15.951589</td>\n",
       "      <td>16.391425</td>\n",
       "      <td>15.952603</td>\n",
       "    </tr>\n",
       "    <tr>\n",
       "      <th>32346</th>\n",
       "      <td>CD133作为肺癌干细胞标记物的应用及其局限性</td>\n",
       "      <td>Lung cancer is one of the most common tumor, which lacks of effective clinical treatment to lead...</td>\n",
       "      <td>NaN</td>\n",
       "      <td>18.073277</td>\n",
       "      <td>17.089324</td>\n",
       "      <td>17.671355</td>\n",
       "      <td>18.142165</td>\n",
       "      <td>17.625425</td>\n",
       "      <td>17.349947</td>\n",
       "      <td>17.329107</td>\n",
       "    </tr>\n",
       "    <tr>\n",
       "      <th>32988</th>\n",
       "      <td>应用多肽芯片研究非小细胞肺癌患者血清中的EGFR自身抗体</td>\n",
       "      <td>BACKGROUND AND OBJECTIVE: Autoantibodies as new tumor markers may play an important role in the ...</td>\n",
       "      <td>NaN</td>\n",
       "      <td>18.343298</td>\n",
       "      <td>17.378610</td>\n",
       "      <td>17.933119</td>\n",
       "      <td>18.359375</td>\n",
       "      <td>17.843737</td>\n",
       "      <td>17.626204</td>\n",
       "      <td>17.595233</td>\n",
       "    </tr>\n",
       "  </tbody>\n",
       "</table>\n",
       "<p>42714 rows × 10 columns</p>\n",
       "</div>"
      ],
      "text/plain": [
       "                                                                                                     title                                                                                             abstract publish_time  (What is known about transmission, incubation, and environmental stability?,)  (What do we know about COVID-19 risk factors?,)  (What do we know about virus genetics, origin, and evolution?,)  (What has been published about ethical and social science considerations,)  (What do we know about diagnostics and surveillance?,)  (What has been published about medical care?,)  (What do we know about vaccines and therapeutics?,)\n",
       "42520                                          What are the risks of COVID-19 infection in pregnant women?                                          What are the risks of COVID-19 infection in pregnant women?   2020-03-13                                                                       8.289875                                         5.980003                                                         8.107699                                                                   10.069599                                                8.934867                                        9.449055                                             8.218084\n",
       "38952              From Isolation to Coordination: How Can Telemedicine Help Combat the COVID-19 Outbreak?  The rapid spread of Coronavirus disease 2019 (COVID-19) presents China with a critical challenge...   2020-02-23                                                                       8.875359                                         6.330186                                                         8.247651                                                                   10.166074                                                8.425106                                        9.476560                                             8.095946\n",
       "39211  If containment is not possible, how do we minimize mortality for COVID-19 and other emerging inf...  If COVID-19 containment policies fail and social distancing measures cannot be sustained until v...   2020-03-17                                                                       8.304019                                         6.363608                                                         7.696973                                                                   10.311798                                                8.176689                                        9.653903                                             7.814902\n",
       "31649                                             What can we predict about viral evolution and emergence?  Predicting the emergence of infectious diseases has been touted as one of the most important goa...          NaN                                                                       7.561812                                         6.478772                                                         5.380471                                                                    8.933305                                                6.696497                                        7.961433                                             6.213515\n",
       "31003                           Host genome polymorphisms and tuberculosis infection: What we have to say?  Several epidemiology studies suggest that host genetic factors play important roles in susceptib...          NaN                                                                       8.363339                                         6.533615                                                         6.597945                                                                    8.497352                                                7.196075                                        7.770903                                             6.609006\n",
       "...                                                                                                    ...                                                                                                  ...          ...                                                                            ...                                              ...                                                              ...                                                                         ...                                                     ...                                             ...                                                  ...\n",
       "11507                                                                     On vous demande, sachez répondre                                                                     On vous demande, sachez répondre   2014-03-31                                                                      15.678123                                        15.197685                                                        15.241371                                                                   15.558457                                               15.224225                                       15.614729                                            15.245713\n",
       "5462                                                SARS: Solución mediante Acciones y Respuestas Sensatas                                               SARS: Solución mediante Acciones y Respuestas Sensatas   2004-10-31                                                                      15.649980                                        15.320809                                                        15.204449                                                                   15.386911                                               15.083672                                       15.625673                                            15.203720\n",
       "4162                                   Nowo pojawiające się choroby zakaźne w aspekcie bezpieczeństwa krwi  Abstract The risk of transfusion-related infectious diseases, the markers for which are routinel...   2013-09-30                                                                      16.528353                                        15.753838                                                        15.839911                                                                   16.539292                                               15.951589                                       16.391425                                            15.952603\n",
       "32346                                                                              CD133作为肺癌干细胞标记物的应用及其局限性  Lung cancer is one of the most common tumor, which lacks of effective clinical treatment to lead...          NaN                                                                      18.073277                                        17.089324                                                        17.671355                                                                   18.142165                                               17.625425                                       17.349947                                            17.329107\n",
       "32988                                                                         应用多肽芯片研究非小细胞肺癌患者血清中的EGFR自身抗体  BACKGROUND AND OBJECTIVE: Autoantibodies as new tumor markers may play an important role in the ...          NaN                                                                      18.343298                                        17.378610                                                        17.933119                                                                   18.359375                                               17.843737                                       17.626204                                            17.595233\n",
       "\n",
       "[42714 rows x 10 columns]"
      ]
     },
     "execution_count": 133,
     "metadata": {},
     "output_type": "execute_result"
    }
   ],
   "source": [
    "euc_titles_tasks = pd.DataFrame(euc_mat, columns=[tasks['Task']], index=metadata.index)\n",
    "combined = pd.concat([metadata[['title', 'abstract', 'publish_time']], euc_titles_tasks], axis=1)\n",
    "combined.sort_values(by=[euc_titles_tasks.columns[1]], axis = 0, ascending=True)"
   ]
  },
  {
   "cell_type": "markdown",
   "metadata": {},
   "source": [
    "## 2. Cos sim between `article title` and `task string`"
   ]
  },
  {
   "cell_type": "code",
   "execution_count": 106,
   "metadata": {},
   "outputs": [],
   "source": [
    "cosine_sim = np.dot(titles_bert, tasks_bert.T) / np.dot(abs(titles_bert), abs(tasks_bert.T))"
   ]
  },
  {
   "cell_type": "markdown",
   "metadata": {},
   "source": [
    "### Ranking by 1st task"
   ]
  },
  {
   "cell_type": "code",
   "execution_count": 134,
   "metadata": {},
   "outputs": [
    {
     "data": {
      "text/html": [
       "<div>\n",
       "<style scoped>\n",
       "    .dataframe tbody tr th:only-of-type {\n",
       "        vertical-align: middle;\n",
       "    }\n",
       "\n",
       "    .dataframe tbody tr th {\n",
       "        vertical-align: top;\n",
       "    }\n",
       "\n",
       "    .dataframe thead th {\n",
       "        text-align: right;\n",
       "    }\n",
       "</style>\n",
       "<table border=\"1\" class=\"dataframe\">\n",
       "  <thead>\n",
       "    <tr style=\"text-align: right;\">\n",
       "      <th></th>\n",
       "      <th>title</th>\n",
       "      <th>abstract</th>\n",
       "      <th>publish_time</th>\n",
       "      <th>(What is known about transmission, incubation, and environmental stability?,)</th>\n",
       "      <th>(What do we know about COVID-19 risk factors?,)</th>\n",
       "      <th>(What do we know about virus genetics, origin, and evolution?,)</th>\n",
       "      <th>(What has been published about ethical and social science considerations,)</th>\n",
       "      <th>(What do we know about diagnostics and surveillance?,)</th>\n",
       "      <th>(What has been published about medical care?,)</th>\n",
       "      <th>(What do we know about vaccines and therapeutics?,)</th>\n",
       "    </tr>\n",
       "  </thead>\n",
       "  <tbody>\n",
       "    <tr>\n",
       "      <th>4514</th>\n",
       "      <td>Does reduced MHC diversity decrease viability of vertebrate populations?</td>\n",
       "      <td>Abstract Loss of genetic variation may render populations more vulnerable to pathogens due to in...</td>\n",
       "      <td>2010-03-31</td>\n",
       "      <td>0.945989</td>\n",
       "      <td>0.910229</td>\n",
       "      <td>0.917137</td>\n",
       "      <td>0.848254</td>\n",
       "      <td>0.875401</td>\n",
       "      <td>0.867827</td>\n",
       "      <td>0.894747</td>\n",
       "    </tr>\n",
       "    <tr>\n",
       "      <th>16429</th>\n",
       "      <td>Mass extinctions, biodiversity and mitochondrial function: are bats ‘special’ as reservoirs for ...</td>\n",
       "      <td>For the past 10–15 years, bats have attracted growing attention as reservoirs of emerging zoonot...</td>\n",
       "      <td>2011-12-31</td>\n",
       "      <td>0.943527</td>\n",
       "      <td>0.912471</td>\n",
       "      <td>0.929108</td>\n",
       "      <td>0.845349</td>\n",
       "      <td>0.894548</td>\n",
       "      <td>0.878056</td>\n",
       "      <td>0.906711</td>\n",
       "    </tr>\n",
       "    <tr>\n",
       "      <th>31649</th>\n",
       "      <td>What can we predict about viral evolution and emergence?</td>\n",
       "      <td>Predicting the emergence of infectious diseases has been touted as one of the most important goa...</td>\n",
       "      <td>NaN</td>\n",
       "      <td>0.938635</td>\n",
       "      <td>0.956186</td>\n",
       "      <td>0.977765</td>\n",
       "      <td>0.891810</td>\n",
       "      <td>0.954431</td>\n",
       "      <td>0.921685</td>\n",
       "      <td>0.961587</td>\n",
       "    </tr>\n",
       "    <tr>\n",
       "      <th>31943</th>\n",
       "      <td>Does genetic diversity limit disease spread in natural host populations?</td>\n",
       "      <td>It is a commonly held view that genetically homogenous host populations are more vulnerable to i...</td>\n",
       "      <td>NaN</td>\n",
       "      <td>0.937123</td>\n",
       "      <td>0.898754</td>\n",
       "      <td>0.929170</td>\n",
       "      <td>0.831097</td>\n",
       "      <td>0.872806</td>\n",
       "      <td>0.873130</td>\n",
       "      <td>0.890013</td>\n",
       "    </tr>\n",
       "    <tr>\n",
       "      <th>23327</th>\n",
       "      <td>When are pathogen genome sequences informative of transmission events?</td>\n",
       "      <td>Recent years have seen the development of numerous methodologies for reconstructing transmission...</td>\n",
       "      <td>2018 Feb 8</td>\n",
       "      <td>0.935807</td>\n",
       "      <td>0.945693</td>\n",
       "      <td>0.935872</td>\n",
       "      <td>0.868899</td>\n",
       "      <td>0.901674</td>\n",
       "      <td>0.891892</td>\n",
       "      <td>0.912916</td>\n",
       "    </tr>\n",
       "    <tr>\n",
       "      <th>...</th>\n",
       "      <td>...</td>\n",
       "      <td>...</td>\n",
       "      <td>...</td>\n",
       "      <td>...</td>\n",
       "      <td>...</td>\n",
       "      <td>...</td>\n",
       "      <td>...</td>\n",
       "      <td>...</td>\n",
       "      <td>...</td>\n",
       "      <td>...</td>\n",
       "    </tr>\n",
       "    <tr>\n",
       "      <th>19953</th>\n",
       "      <td>Ethyl 4-(5-bromo-1H-indol-3-yl)-2,6,6-trimethyl-5-oxo-1,4,5,6,7,8-hexa­hydro­quinoline-3-carboxy...</td>\n",
       "      <td>The title compound, C(23)H(25)BrN(2)O(3), crystallizes with two independent mol­ecules in the as...</td>\n",
       "      <td>2012 Nov 24</td>\n",
       "      <td>0.475482</td>\n",
       "      <td>0.654451</td>\n",
       "      <td>0.509662</td>\n",
       "      <td>0.503665</td>\n",
       "      <td>0.494460</td>\n",
       "      <td>0.480067</td>\n",
       "      <td>0.572192</td>\n",
       "    </tr>\n",
       "    <tr>\n",
       "      <th>7154</th>\n",
       "      <td>Lars Olof Lennart Nilsson</td>\n",
       "      <td>Lars Olof Lennart Nilsson</td>\n",
       "      <td>2017-04-21</td>\n",
       "      <td>0.472488</td>\n",
       "      <td>0.615177</td>\n",
       "      <td>0.550706</td>\n",
       "      <td>0.581026</td>\n",
       "      <td>0.563877</td>\n",
       "      <td>0.545921</td>\n",
       "      <td>0.544292</td>\n",
       "    </tr>\n",
       "    <tr>\n",
       "      <th>4234</th>\n",
       "      <td>Table of contents</td>\n",
       "      <td>Table of contents</td>\n",
       "      <td>2004-07-31</td>\n",
       "      <td>0.453591</td>\n",
       "      <td>0.526695</td>\n",
       "      <td>0.494899</td>\n",
       "      <td>0.602868</td>\n",
       "      <td>0.509470</td>\n",
       "      <td>0.495276</td>\n",
       "      <td>0.524821</td>\n",
       "    </tr>\n",
       "    <tr>\n",
       "      <th>4258</th>\n",
       "      <td>Table of Contents</td>\n",
       "      <td>Table of Contents</td>\n",
       "      <td>2016-01-31</td>\n",
       "      <td>0.453591</td>\n",
       "      <td>0.526695</td>\n",
       "      <td>0.494899</td>\n",
       "      <td>0.602868</td>\n",
       "      <td>0.509470</td>\n",
       "      <td>0.495276</td>\n",
       "      <td>0.524821</td>\n",
       "    </tr>\n",
       "    <tr>\n",
       "      <th>34892</th>\n",
       "      <td>Lee Jong-wook</td>\n",
       "      <td>Director general of the World Health Organization</td>\n",
       "      <td>NaN</td>\n",
       "      <td>0.412749</td>\n",
       "      <td>0.520668</td>\n",
       "      <td>0.481679</td>\n",
       "      <td>0.471733</td>\n",
       "      <td>0.493933</td>\n",
       "      <td>0.457857</td>\n",
       "      <td>0.478153</td>\n",
       "    </tr>\n",
       "  </tbody>\n",
       "</table>\n",
       "<p>42714 rows × 10 columns</p>\n",
       "</div>"
      ],
      "text/plain": [
       "                                                                                                     title                                                                                             abstract publish_time  (What is known about transmission, incubation, and environmental stability?,)  (What do we know about COVID-19 risk factors?,)  (What do we know about virus genetics, origin, and evolution?,)  (What has been published about ethical and social science considerations,)  (What do we know about diagnostics and surveillance?,)  (What has been published about medical care?,)  (What do we know about vaccines and therapeutics?,)\n",
       "4514                              Does reduced MHC diversity decrease viability of vertebrate populations?  Abstract Loss of genetic variation may render populations more vulnerable to pathogens due to in...   2010-03-31                                                                       0.945989                                         0.910229                                                         0.917137                                                                    0.848254                                                0.875401                                        0.867827                                             0.894747\n",
       "16429  Mass extinctions, biodiversity and mitochondrial function: are bats ‘special’ as reservoirs for ...  For the past 10–15 years, bats have attracted growing attention as reservoirs of emerging zoonot...   2011-12-31                                                                       0.943527                                         0.912471                                                         0.929108                                                                    0.845349                                                0.894548                                        0.878056                                             0.906711\n",
       "31649                                             What can we predict about viral evolution and emergence?  Predicting the emergence of infectious diseases has been touted as one of the most important goa...          NaN                                                                       0.938635                                         0.956186                                                         0.977765                                                                    0.891810                                                0.954431                                        0.921685                                             0.961587\n",
       "31943                             Does genetic diversity limit disease spread in natural host populations?  It is a commonly held view that genetically homogenous host populations are more vulnerable to i...          NaN                                                                       0.937123                                         0.898754                                                         0.929170                                                                    0.831097                                                0.872806                                        0.873130                                             0.890013\n",
       "23327                               When are pathogen genome sequences informative of transmission events?  Recent years have seen the development of numerous methodologies for reconstructing transmission...   2018 Feb 8                                                                       0.935807                                         0.945693                                                         0.935872                                                                    0.868899                                                0.901674                                        0.891892                                             0.912916\n",
       "...                                                                                                    ...                                                                                                  ...          ...                                                                            ...                                              ...                                                              ...                                                                         ...                                                     ...                                             ...                                                  ...\n",
       "19953  Ethyl 4-(5-bromo-1H-indol-3-yl)-2,6,6-trimethyl-5-oxo-1,4,5,6,7,8-hexa­hydro­quinoline-3-carboxy...  The title compound, C(23)H(25)BrN(2)O(3), crystallizes with two independent mol­ecules in the as...  2012 Nov 24                                                                       0.475482                                         0.654451                                                         0.509662                                                                    0.503665                                                0.494460                                        0.480067                                             0.572192\n",
       "7154                                                                             Lars Olof Lennart Nilsson                                                                            Lars Olof Lennart Nilsson   2017-04-21                                                                       0.472488                                         0.615177                                                         0.550706                                                                    0.581026                                                0.563877                                        0.545921                                             0.544292\n",
       "4234                                                                                     Table of contents                                                                                    Table of contents   2004-07-31                                                                       0.453591                                         0.526695                                                         0.494899                                                                    0.602868                                                0.509470                                        0.495276                                             0.524821\n",
       "4258                                                                                     Table of Contents                                                                                    Table of Contents   2016-01-31                                                                       0.453591                                         0.526695                                                         0.494899                                                                    0.602868                                                0.509470                                        0.495276                                             0.524821\n",
       "34892                                                                                        Lee Jong-wook                                                    Director general of the World Health Organization          NaN                                                                       0.412749                                         0.520668                                                         0.481679                                                                    0.471733                                                0.493933                                        0.457857                                             0.478153\n",
       "\n",
       "[42714 rows x 10 columns]"
      ]
     },
     "execution_count": 134,
     "metadata": {},
     "output_type": "execute_result"
    }
   ],
   "source": [
    "cos_sim_titles_tasks = pd.DataFrame(cosine_sim, columns=[tasks['Task']], index=metadata.index)\n",
    "combined = pd.concat([metadata[['title', 'abstract', 'publish_time']], cos_sim_titles_tasks], axis=1)\n",
    "combined.sort_values(by=[euc_titles_tasks.columns[0]], axis = 0, ascending=False)"
   ]
  },
  {
   "cell_type": "code",
   "execution_count": 128,
   "metadata": {},
   "outputs": [
    {
     "data": {
      "text/plain": [
       "(array([4109]),)"
      ]
     },
     "execution_count": 128,
     "metadata": {},
     "output_type": "execute_result"
    }
   ],
   "source": [
    "np.where(metadata['title'] == 'Table of Contents')"
   ]
  },
  {
   "cell_type": "code",
   "execution_count": 129,
   "metadata": {},
   "outputs": [
    {
     "data": {
      "text/html": [
       "<div>\n",
       "<style scoped>\n",
       "    .dataframe tbody tr th:only-of-type {\n",
       "        vertical-align: middle;\n",
       "    }\n",
       "\n",
       "    .dataframe tbody tr th {\n",
       "        vertical-align: top;\n",
       "    }\n",
       "\n",
       "    .dataframe thead th {\n",
       "        text-align: right;\n",
       "    }\n",
       "</style>\n",
       "<table border=\"1\" class=\"dataframe\">\n",
       "  <thead>\n",
       "    <tr style=\"text-align: right;\">\n",
       "      <th></th>\n",
       "      <th>title</th>\n",
       "      <th>abstract</th>\n",
       "    </tr>\n",
       "  </thead>\n",
       "  <tbody>\n",
       "    <tr>\n",
       "      <th>4254</th>\n",
       "      <td>Replication and Clearance of Respiratory Syncytial Virus Apoptosis Is an Important Pathway of Vi...</td>\n",
       "      <td>Human respiratory syncytial virus is an important cause of severe respiratory disease in young c...</td>\n",
       "    </tr>\n",
       "    <tr>\n",
       "      <th>4255</th>\n",
       "      <td>Molecular and Functional Analysis of the Human Prothrombinase Gene (HFGL2) and Its Role in Viral...</td>\n",
       "      <td>In the present studies, we report the cloning and structural characterization of the HFGL2 gene ...</td>\n",
       "    </tr>\n",
       "    <tr>\n",
       "      <th>4256</th>\n",
       "      <td>Cytokine and Chemokine Profiles in Lung Tissues from Fatal Cases of 2009 Pandemic Influenza A (H...</td>\n",
       "      <td>Pathological studies on fatal cases caused by 2009 pandemic influenza H1N1 virus (2009 pH1N1) re...</td>\n",
       "    </tr>\n",
       "    <tr>\n",
       "      <th>4257</th>\n",
       "      <td>Discordant Biological and Toxicological Species Responses to TLR3 Activation</td>\n",
       "      <td>Toll-like receptors (TLRs) are highly conserved type 1 membrane proteins that initiate a multipl...</td>\n",
       "    </tr>\n",
       "    <tr>\n",
       "      <th>4258</th>\n",
       "      <td>Table of Contents</td>\n",
       "      <td>Table of Contents</td>\n",
       "    </tr>\n",
       "    <tr>\n",
       "      <th>4259</th>\n",
       "      <td>Clinicopathologic, Immunohistochemical, and Ultrastructural Findings of a Fatal Case of Middle E...</td>\n",
       "      <td>Middle East respiratory syndrome coronavirus (MERS-CoV) infection causes an acute respiratory il...</td>\n",
       "    </tr>\n",
       "    <tr>\n",
       "      <th>4260</th>\n",
       "      <td>Value of Autopsy Emphasized in the Case Report of a Single Patient with Middle East Respiratory ...</td>\n",
       "      <td>Value of Autopsy Emphasized in the Case Report of a Single Patient with Middle East Respiratory ...</td>\n",
       "    </tr>\n",
       "    <tr>\n",
       "      <th>4261</th>\n",
       "      <td>This Month in AJP</td>\n",
       "      <td>This Month in AJP</td>\n",
       "    </tr>\n",
       "    <tr>\n",
       "      <th>4262</th>\n",
       "      <td>Cluster of acute hemorrhagic appendicitis among high school students in Wuhan, China</td>\n",
       "      <td>Abstract Background Features of a cluster of acute appendicitis that occurred among a high schoo...</td>\n",
       "    </tr>\n",
       "    <tr>\n",
       "      <th>4263</th>\n",
       "      <td>Presidential address: awakening the hero within</td>\n",
       "      <td>Presidential address: awakening the hero within</td>\n",
       "    </tr>\n",
       "  </tbody>\n",
       "</table>\n",
       "</div>"
      ],
      "text/plain": [
       "                                                                                                    title                                                                                             abstract\n",
       "4254  Replication and Clearance of Respiratory Syncytial Virus Apoptosis Is an Important Pathway of Vi...  Human respiratory syncytial virus is an important cause of severe respiratory disease in young c...\n",
       "4255  Molecular and Functional Analysis of the Human Prothrombinase Gene (HFGL2) and Its Role in Viral...  In the present studies, we report the cloning and structural characterization of the HFGL2 gene ...\n",
       "4256  Cytokine and Chemokine Profiles in Lung Tissues from Fatal Cases of 2009 Pandemic Influenza A (H...  Pathological studies on fatal cases caused by 2009 pandemic influenza H1N1 virus (2009 pH1N1) re...\n",
       "4257                         Discordant Biological and Toxicological Species Responses to TLR3 Activation  Toll-like receptors (TLRs) are highly conserved type 1 membrane proteins that initiate a multipl...\n",
       "4258                                                                                    Table of Contents                                                                                    Table of Contents\n",
       "4259  Clinicopathologic, Immunohistochemical, and Ultrastructural Findings of a Fatal Case of Middle E...  Middle East respiratory syndrome coronavirus (MERS-CoV) infection causes an acute respiratory il...\n",
       "4260  Value of Autopsy Emphasized in the Case Report of a Single Patient with Middle East Respiratory ...  Value of Autopsy Emphasized in the Case Report of a Single Patient with Middle East Respiratory ...\n",
       "4261                                                                                    This Month in AJP                                                                                    This Month in AJP\n",
       "4262                 Cluster of acute hemorrhagic appendicitis among high school students in Wuhan, China  Abstract Background Features of a cluster of acute appendicitis that occurred among a high schoo...\n",
       "4263                                                      Presidential address: awakening the hero within                                                      Presidential address: awakening the hero within"
      ]
     },
     "execution_count": 129,
     "metadata": {},
     "output_type": "execute_result"
    }
   ],
   "source": [
    "metadata[['title', 'abstract']][4105:4115]"
   ]
  },
  {
   "cell_type": "markdown",
   "metadata": {},
   "source": [
    "### Ranking by 2nd task"
   ]
  },
  {
   "cell_type": "code",
   "execution_count": 135,
   "metadata": {},
   "outputs": [
    {
     "data": {
      "text/html": [
       "<div>\n",
       "<style scoped>\n",
       "    .dataframe tbody tr th:only-of-type {\n",
       "        vertical-align: middle;\n",
       "    }\n",
       "\n",
       "    .dataframe tbody tr th {\n",
       "        vertical-align: top;\n",
       "    }\n",
       "\n",
       "    .dataframe thead th {\n",
       "        text-align: right;\n",
       "    }\n",
       "</style>\n",
       "<table border=\"1\" class=\"dataframe\">\n",
       "  <thead>\n",
       "    <tr style=\"text-align: right;\">\n",
       "      <th></th>\n",
       "      <th>title</th>\n",
       "      <th>abstract</th>\n",
       "      <th>publish_time</th>\n",
       "      <th>(What is known about transmission, incubation, and environmental stability?,)</th>\n",
       "      <th>(What do we know about COVID-19 risk factors?,)</th>\n",
       "      <th>(What do we know about virus genetics, origin, and evolution?,)</th>\n",
       "      <th>(What has been published about ethical and social science considerations,)</th>\n",
       "      <th>(What do we know about diagnostics and surveillance?,)</th>\n",
       "      <th>(What has been published about medical care?,)</th>\n",
       "      <th>(What do we know about vaccines and therapeutics?,)</th>\n",
       "    </tr>\n",
       "  </thead>\n",
       "  <tbody>\n",
       "    <tr>\n",
       "      <th>42520</th>\n",
       "      <td>What are the risks of COVID-19 infection in pregnant women?</td>\n",
       "      <td>What are the risks of COVID-19 infection in pregnant women?</td>\n",
       "      <td>2020-03-13</td>\n",
       "      <td>0.910828</td>\n",
       "      <td>0.963474</td>\n",
       "      <td>0.902180</td>\n",
       "      <td>0.839450</td>\n",
       "      <td>0.875165</td>\n",
       "      <td>0.870611</td>\n",
       "      <td>0.899239</td>\n",
       "    </tr>\n",
       "    <tr>\n",
       "      <th>39211</th>\n",
       "      <td>If containment is not possible, how do we minimize mortality for COVID-19 and other emerging inf...</td>\n",
       "      <td>If COVID-19 containment policies fail and social distancing measures cannot be sustained until v...</td>\n",
       "      <td>2020-03-17</td>\n",
       "      <td>0.914765</td>\n",
       "      <td>0.960245</td>\n",
       "      <td>0.921732</td>\n",
       "      <td>0.827443</td>\n",
       "      <td>0.907813</td>\n",
       "      <td>0.861027</td>\n",
       "      <td>0.914858</td>\n",
       "    </tr>\n",
       "    <tr>\n",
       "      <th>38952</th>\n",
       "      <td>From Isolation to Coordination: How Can Telemedicine Help Combat the COVID-19 Outbreak?</td>\n",
       "      <td>The rapid spread of Coronavirus disease 2019 (COVID-19) presents China with a critical challenge...</td>\n",
       "      <td>2020-02-23</td>\n",
       "      <td>0.895850</td>\n",
       "      <td>0.957904</td>\n",
       "      <td>0.899822</td>\n",
       "      <td>0.832923</td>\n",
       "      <td>0.893977</td>\n",
       "      <td>0.865276</td>\n",
       "      <td>0.908554</td>\n",
       "    </tr>\n",
       "    <tr>\n",
       "      <th>31649</th>\n",
       "      <td>What can we predict about viral evolution and emergence?</td>\n",
       "      <td>Predicting the emergence of infectious diseases has been touted as one of the most important goa...</td>\n",
       "      <td>NaN</td>\n",
       "      <td>0.938635</td>\n",
       "      <td>0.956186</td>\n",
       "      <td>0.977765</td>\n",
       "      <td>0.891810</td>\n",
       "      <td>0.954431</td>\n",
       "      <td>0.921685</td>\n",
       "      <td>0.961587</td>\n",
       "    </tr>\n",
       "    <tr>\n",
       "      <th>12202</th>\n",
       "      <td>What Is the Role of Newer Molecular Tests in the Management of CAP?</td>\n",
       "      <td>What Is the Role of Newer Molecular Tests in the Management of CAP?</td>\n",
       "      <td>2013-03-31</td>\n",
       "      <td>0.921972</td>\n",
       "      <td>0.952838</td>\n",
       "      <td>0.932948</td>\n",
       "      <td>0.902719</td>\n",
       "      <td>0.925414</td>\n",
       "      <td>0.918785</td>\n",
       "      <td>0.927892</td>\n",
       "    </tr>\n",
       "    <tr>\n",
       "      <th>...</th>\n",
       "      <td>...</td>\n",
       "      <td>...</td>\n",
       "      <td>...</td>\n",
       "      <td>...</td>\n",
       "      <td>...</td>\n",
       "      <td>...</td>\n",
       "      <td>...</td>\n",
       "      <td>...</td>\n",
       "      <td>...</td>\n",
       "      <td>...</td>\n",
       "    </tr>\n",
       "    <tr>\n",
       "      <th>16247</th>\n",
       "      <td>Travel and public health</td>\n",
       "      <td>Summary Increasing international travel and migration can interfere with public health in both t...</td>\n",
       "      <td>2008-12-31</td>\n",
       "      <td>0.586913</td>\n",
       "      <td>0.541174</td>\n",
       "      <td>0.533364</td>\n",
       "      <td>0.657754</td>\n",
       "      <td>0.558289</td>\n",
       "      <td>0.611529</td>\n",
       "      <td>0.552224</td>\n",
       "    </tr>\n",
       "    <tr>\n",
       "      <th>4258</th>\n",
       "      <td>Table of Contents</td>\n",
       "      <td>Table of Contents</td>\n",
       "      <td>2016-01-31</td>\n",
       "      <td>0.453591</td>\n",
       "      <td>0.526695</td>\n",
       "      <td>0.494899</td>\n",
       "      <td>0.602868</td>\n",
       "      <td>0.509470</td>\n",
       "      <td>0.495276</td>\n",
       "      <td>0.524821</td>\n",
       "    </tr>\n",
       "    <tr>\n",
       "      <th>4234</th>\n",
       "      <td>Table of contents</td>\n",
       "      <td>Table of contents</td>\n",
       "      <td>2004-07-31</td>\n",
       "      <td>0.453591</td>\n",
       "      <td>0.526695</td>\n",
       "      <td>0.494899</td>\n",
       "      <td>0.602868</td>\n",
       "      <td>0.509470</td>\n",
       "      <td>0.495276</td>\n",
       "      <td>0.524821</td>\n",
       "    </tr>\n",
       "    <tr>\n",
       "      <th>34892</th>\n",
       "      <td>Lee Jong-wook</td>\n",
       "      <td>Director general of the World Health Organization</td>\n",
       "      <td>NaN</td>\n",
       "      <td>0.412749</td>\n",
       "      <td>0.520668</td>\n",
       "      <td>0.481679</td>\n",
       "      <td>0.471733</td>\n",
       "      <td>0.493933</td>\n",
       "      <td>0.457857</td>\n",
       "      <td>0.478153</td>\n",
       "    </tr>\n",
       "    <tr>\n",
       "      <th>27585</th>\n",
       "      <td>SARS Resources</td>\n",
       "      <td>SARS Resources</td>\n",
       "      <td>2003 Sep 29</td>\n",
       "      <td>0.486949</td>\n",
       "      <td>0.511660</td>\n",
       "      <td>0.504417</td>\n",
       "      <td>0.559773</td>\n",
       "      <td>0.529642</td>\n",
       "      <td>0.488861</td>\n",
       "      <td>0.517047</td>\n",
       "    </tr>\n",
       "  </tbody>\n",
       "</table>\n",
       "<p>42714 rows × 10 columns</p>\n",
       "</div>"
      ],
      "text/plain": [
       "                                                                                                     title                                                                                             abstract publish_time  (What is known about transmission, incubation, and environmental stability?,)  (What do we know about COVID-19 risk factors?,)  (What do we know about virus genetics, origin, and evolution?,)  (What has been published about ethical and social science considerations,)  (What do we know about diagnostics and surveillance?,)  (What has been published about medical care?,)  (What do we know about vaccines and therapeutics?,)\n",
       "42520                                          What are the risks of COVID-19 infection in pregnant women?                                          What are the risks of COVID-19 infection in pregnant women?   2020-03-13                                                                       0.910828                                         0.963474                                                         0.902180                                                                    0.839450                                                0.875165                                        0.870611                                             0.899239\n",
       "39211  If containment is not possible, how do we minimize mortality for COVID-19 and other emerging inf...  If COVID-19 containment policies fail and social distancing measures cannot be sustained until v...   2020-03-17                                                                       0.914765                                         0.960245                                                         0.921732                                                                    0.827443                                                0.907813                                        0.861027                                             0.914858\n",
       "38952              From Isolation to Coordination: How Can Telemedicine Help Combat the COVID-19 Outbreak?  The rapid spread of Coronavirus disease 2019 (COVID-19) presents China with a critical challenge...   2020-02-23                                                                       0.895850                                         0.957904                                                         0.899822                                                                    0.832923                                                0.893977                                        0.865276                                             0.908554\n",
       "31649                                             What can we predict about viral evolution and emergence?  Predicting the emergence of infectious diseases has been touted as one of the most important goa...          NaN                                                                       0.938635                                         0.956186                                                         0.977765                                                                    0.891810                                                0.954431                                        0.921685                                             0.961587\n",
       "12202                                  What Is the Role of Newer Molecular Tests in the Management of CAP?                                  What Is the Role of Newer Molecular Tests in the Management of CAP?   2013-03-31                                                                       0.921972                                         0.952838                                                         0.932948                                                                    0.902719                                                0.925414                                        0.918785                                             0.927892\n",
       "...                                                                                                    ...                                                                                                  ...          ...                                                                            ...                                              ...                                                              ...                                                                         ...                                                     ...                                             ...                                                  ...\n",
       "16247                                                                             Travel and public health  Summary Increasing international travel and migration can interfere with public health in both t...   2008-12-31                                                                       0.586913                                         0.541174                                                         0.533364                                                                    0.657754                                                0.558289                                        0.611529                                             0.552224\n",
       "4258                                                                                     Table of Contents                                                                                    Table of Contents   2016-01-31                                                                       0.453591                                         0.526695                                                         0.494899                                                                    0.602868                                                0.509470                                        0.495276                                             0.524821\n",
       "4234                                                                                     Table of contents                                                                                    Table of contents   2004-07-31                                                                       0.453591                                         0.526695                                                         0.494899                                                                    0.602868                                                0.509470                                        0.495276                                             0.524821\n",
       "34892                                                                                        Lee Jong-wook                                                    Director general of the World Health Organization          NaN                                                                       0.412749                                         0.520668                                                         0.481679                                                                    0.471733                                                0.493933                                        0.457857                                             0.478153\n",
       "27585                                                                                       SARS Resources                                                                                       SARS Resources  2003 Sep 29                                                                       0.486949                                         0.511660                                                         0.504417                                                                    0.559773                                                0.529642                                        0.488861                                             0.517047\n",
       "\n",
       "[42714 rows x 10 columns]"
      ]
     },
     "execution_count": 135,
     "metadata": {},
     "output_type": "execute_result"
    }
   ],
   "source": [
    "cos_sim_titles_tasks = pd.DataFrame(cosine_sim, columns=[tasks['Task']], index=metadata.index)\n",
    "combined = pd.concat([metadata[['title', 'abstract', 'publish_time']], cos_sim_titles_tasks], axis=1)\n",
    "combined.sort_values(by=[euc_titles_tasks.columns[1]], axis = 0, ascending=False)"
   ]
  }
 ],
 "metadata": {
  "accelerator": "GPU",
  "colab": {
   "collapsed_sections": [],
   "name": "Copy of CORD19 - NLP Challenge",
   "provenance": [
    {
     "file_id": "1aFxUJgP1GeMqqw3bUDQIzoYIaYHWKCAr",
     "timestamp": 1585081316020
    }
   ]
  },
  "kernelspec": {
   "display_name": "Python 3",
   "language": "python",
   "name": "python3"
  },
  "language_info": {
   "codemirror_mode": {
    "name": "ipython",
    "version": 3
   },
   "file_extension": ".py",
   "mimetype": "text/x-python",
   "name": "python",
   "nbconvert_exporter": "python",
   "pygments_lexer": "ipython3",
   "version": "3.6.9"
  }
 },
 "nbformat": 4,
 "nbformat_minor": 1
}
