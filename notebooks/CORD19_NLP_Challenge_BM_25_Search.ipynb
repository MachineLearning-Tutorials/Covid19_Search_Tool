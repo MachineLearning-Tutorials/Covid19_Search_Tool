{
 "cells": [
  {
   "cell_type": "markdown",
   "metadata": {
    "colab_type": "text",
    "id": "cepc_sQETKhK"
   },
   "source": [
    "### Import libraries\n"
   ]
  },
  {
   "cell_type": "code",
   "execution_count": null,
   "metadata": {
    "colab": {
     "base_uri": "https://localhost:8080/",
     "height": 51
    },
    "colab_type": "code",
    "id": "zqI2rescS2Ne",
    "outputId": "c483fe0d-b87e-4917-aae0-f7756939a357"
   },
   "outputs": [],
   "source": [
    "# scientific and numberical libraries\n",
    "import numpy as np # linear algebra\n",
    "import pandas as pd # data processing, CSV file I/O (e.g. pd.read_csv)\n",
    "import nltk # NLP libraries\n",
    "\n",
    "# Jupyter relevant packages\n",
    "from ipywidgets import interact\n",
    "import ipywidgets as widgets\n",
    "from IPython.display import display\n",
    "\n",
    "#general libraries\n",
    "from pathlib import Path, PurePath\n",
    "import requests\n",
    "from requests.exceptions import HTTPError, ConnectionError\n",
    "import re, os, sys"
   ]
  },
  {
   "cell_type": "code",
   "execution_count": null,
   "metadata": {},
   "outputs": [],
   "source": [
    "# Add Covid19_Search_Tool/src to python path\n",
    "nb_dir = os.path.split(os.getcwd())[0]\n",
    "data_dir = os.path.join(nb_dir,'src')\n",
    "if data_dir not in sys.path:\n",
    "    sys.path.append(data_dir)\n",
    "\n",
    "# Import local libraries\n",
    "from utils import ResearchPapers\n",
    "from nlp import SearchResults, WordTokenIndex, preprocess, RankBM25Index"
   ]
  },
  {
   "cell_type": "markdown",
   "metadata": {},
   "source": [
    "### Download data from local folder\n",
    "Requires visiting [COVID-19 Open Research Dataset Challenge (CORD-19)](https://www.kaggle.com/allen-institute-for-ai/CORD-19-research-challenge), downloading the data (you need a Kaggle account), then moving and unzipping the data in Covid19_Search_Tool/data"
   ]
  },
  {
   "cell_type": "code",
   "execution_count": null,
   "metadata": {},
   "outputs": [],
   "source": [
    "# Download metadata from the CORD-19 dataset\n",
    "data_path = os.path.join(os.getcwd(), \"../data\",\"CORD-19-research-challenge\")\n",
    "metadata_path = os.path.join(data_path, 'metadata.csv')\n",
    "metadata = pd.read_csv(metadata_path,\n",
    "                               dtype={'Microsoft Academic Paper ID': str,\n",
    "                                      'pubmed_id': str})\n",
    "\n",
    "# Set the abstract to the paper title if it is null\n",
    "metadata.abstract = metadata.abstract.fillna(metadata.title)\n",
    "print(\"Number of articles BEFORE removing duplicates: %s \" % len(metadata))\n",
    "\n",
    "# Some papers are duplicated since they were collected from separate sources. Thanks Joerg Rings\n",
    "duplicate_paper = ~(metadata.title.isnull() | metadata.abstract.isnull() | metadata.publish_time.isnull()) & (metadata.duplicated(subset=['title', 'abstract']))\n",
    "metadata.dropna(subset=['publish_time', 'journal'])\n",
    "metadata = metadata[~duplicate_paper].reset_index(drop=True)\n",
    "print(\"Number of articles AFTER removing duplicates: %s \" % len(metadata))"
   ]
  },
  {
   "cell_type": "markdown",
   "metadata": {
    "colab_type": "text",
    "id": "a3SQuCAvkjsq"
   },
   "source": [
    "### Create Data Classes for the Research Dataset and Papers\n",
    "These classes make it easier to navigate through the datasources. There is a class called ResearchPapers that wraps the entire dataset an provide useful functions to navigate through it, and Paper, that make it easier to view each paper."
   ]
  },
  {
   "cell_type": "code",
   "execution_count": null,
   "metadata": {},
   "outputs": [],
   "source": [
    "papers = ResearchPapers(metadata)"
   ]
  },
  {
   "cell_type": "markdown",
   "metadata": {
    "colab_type": "text",
    "id": "ZuVbNpd5nPxv"
   },
   "source": [
    "#### Show a Paper"
   ]
  },
  {
   "cell_type": "code",
   "execution_count": null,
   "metadata": {
    "colab": {
     "base_uri": "https://localhost:8080/",
     "height": 514
    },
    "colab_type": "code",
    "id": "UAQ6vb9ynO3E",
    "outputId": "54bbf7de-7102-4218-ff59-c290a575ffa1"
   },
   "outputs": [],
   "source": [
    "papers[1]"
   ]
  },
  {
   "cell_type": "markdown",
   "metadata": {
    "colab_type": "text",
    "id": "WgoC-KGBnJwZ"
   },
   "source": [
    "#### Pull info from a paper"
   ]
  },
  {
   "cell_type": "code",
   "execution_count": null,
   "metadata": {
    "colab": {
     "base_uri": "https://localhost:8080/",
     "height": 68
    },
    "colab_type": "code",
    "id": "Snv1YrO4cY_H",
    "outputId": "85d669cf-4992-4deb-9e94-408942d6538a"
   },
   "outputs": [],
   "source": [
    "index=1\n",
    "paper=papers[index]\n",
    "print(\"Example paper #%s\\nTitle: %s\\nAuthors: %s \" % (index, paper.title(), paper.authors(split=True)))"
   ]
  },
  {
   "cell_type": "markdown",
   "metadata": {
    "colab_type": "text",
    "id": "vLdUa4VRn_a_"
   },
   "source": [
    "### Text Preprocessing\n",
    "To prepare the text for the search index we perform the following steps (in Covid19_Search_Tool/src/nlp.py)\n",
    "1.   Remove punctuations and special characters\n",
    "2.   Convert to lowercase\n",
    "3.   Tokenize into individual tokens (words mostly)\n",
    "4.   Remove stopwords like (and, to))\n",
    "5.   Lemmatize"
   ]
  },
  {
   "cell_type": "code",
   "execution_count": null,
   "metadata": {
    "colab": {},
    "colab_type": "code",
    "id": "NxTjWknWprdZ"
   },
   "outputs": [],
   "source": [
    "# Hardcode the data we want to use in search\n",
    "SEARCH_DISPLAY_COLUMNS = ['title', 'abstract', 'doi', 'authors', 'journal', 'publish_time']"
   ]
  },
  {
   "cell_type": "markdown",
   "metadata": {
    "colab_type": "text",
    "id": "zQqNtiMb-3rc"
   },
   "source": [
    "### Create the index (This takes several minutes)"
   ]
  },
  {
   "cell_type": "code",
   "execution_count": null,
   "metadata": {
    "colab": {},
    "colab_type": "code",
    "id": "cUsxYcrUobbh"
   },
   "outputs": [],
   "source": [
    "bm25_index = RankBM25Index(metadata, SEARCH_DISPLAY_COLUMNS)"
   ]
  },
  {
   "cell_type": "markdown",
   "metadata": {
    "colab_type": "text",
    "id": "LOwEu4pgGb7n"
   },
   "source": [
    "### Search by date"
   ]
  },
  {
   "cell_type": "code",
   "execution_count": null,
   "metadata": {
    "colab": {
     "base_uri": "https://localhost:8080/",
     "height": 289
    },
    "colab_type": "code",
    "id": "r4RubsMNpGK2",
    "outputId": "c5307f8f-d031-4503-f480-ec92839ef172"
   },
   "outputs": [],
   "source": [
    "# example output\n",
    "query='curise ship'\n",
    "n=50\n",
    "results = bm25_index.search(query,n)\n",
    "results.results.sort_values(by=['publish_time'], ascending=False).head(5)"
   ]
  },
  {
   "cell_type": "code",
   "execution_count": null,
   "metadata": {
    "colab": {
     "base_uri": "https://localhost:8080/",
     "height": 289
    },
    "colab_type": "code",
    "id": "ulCpY3ooEr4u",
    "outputId": "054d7aa7-7f6c-4ab7-afea-e32d1e6deade"
   },
   "outputs": [],
   "source": [
    "# example output\n",
    "query='ACE spike'\n",
    "n=50\n",
    "results = bm25_index.search(query,n)\n",
    "results.results.sort_values(by=['publish_time'], ascending=False).head(5)"
   ]
  },
  {
   "cell_type": "markdown",
   "metadata": {
    "colab_type": "text",
    "id": "rQLY3TWUAnG3"
   },
   "source": [
    "### Creating an Autocomplete Search bar with ranking by score\n",
    "Here we provide a search bar with autocomplete. This uses IPywidgets interactive rendering of a TextBox."
   ]
  },
  {
   "cell_type": "code",
   "execution_count": null,
   "metadata": {
    "colab": {
     "base_uri": "https://localhost:8080/",
     "height": 622,
     "referenced_widgets": [
      "7be1d3d15f5b4e9d9ee2b4f9223da84f",
      "cccc4bd597f34b049df91a08b9669379",
      "15c23c2c03104af2bd42a5dfc02d8686",
      "ca3c430cd1bc40019f3865dd45692bbe",
      "7286b8badb294af9a397db67ecad89c8",
      "77a56e3eb5f045d393e7a468d717c994"
     ]
    },
    "colab_type": "code",
    "id": "beMz_ebQAr74",
    "outputId": "d1b15cb2-5723-4b61-81bc-07cc0ee1ab52"
   },
   "outputs": [],
   "source": [
    "def search_papers(SearchTerms: str):\n",
    "    results_to_consider=200\n",
    "    results_to_display=10\n",
    "    # gather search results by score\n",
    "    output = bm25_index.search(SearchTerms, n=results_to_consider)\n",
    "    # sort results by recency\n",
    "    # output=search_results.results.sort_values(by=['publish_time'], ascending=False).head(results_to_display)\n",
    "    if len(output) > 0:\n",
    "        display(output) \n",
    "    return output\n",
    "\n",
    "searchbar = widgets.interactive(search_papers, SearchTerms='ACE spike')\n",
    "searchbar"
   ]
  },
  {
   "cell_type": "markdown",
   "metadata": {
    "colab_type": "text",
    "id": "DFTCTL0UGLlM"
   },
   "source": [
    "### TODO"
   ]
  },
  {
   "cell_type": "code",
   "execution_count": null,
   "metadata": {
    "colab": {},
    "colab_type": "code",
    "id": "77C-cve8GMmD"
   },
   "outputs": [],
   "source": [
    "# Do search with option to restrict years available"
   ]
  },
  {
   "cell_type": "markdown",
   "metadata": {
    "colab_type": "text",
    "id": "ZvkuSN65_spU"
   },
   "source": [
    "### Looking at the Covid Research Tasks\n",
    "This dataset has a number of tasks. We will try to organize the papers according to the tasks\n",
    "\n",
    "What is known about transmission, incubation, and environmental stability?\n",
    "What do we know about COVID-19 risk factors?\n",
    "What do we know about virus genetics, origin, and evolution?\n",
    "What has been published about ethical and social science considerations?\n",
    "What do we know about diagnostics and surveillance?\n",
    "What has been published about medical care?\n",
    "What do we know about non-pharmaceutical interventions?\n",
    "What has been published about information sharing and inter-sectoral collaboration?\n",
    "What do we know about vaccines and therapeutics?"
   ]
  },
  {
   "cell_type": "code",
   "execution_count": null,
   "metadata": {
    "colab": {},
    "colab_type": "code",
    "id": "MCAtXGvh_XAm"
   },
   "outputs": [],
   "source": [
    "tasks = [('What is known about transmission, incubation, and environmental stability?', \n",
    "        'transmission incubation environment coronavirus'),\n",
    "        ('What do we know about COVID-19 risk factors?', 'risk factors'),\n",
    "        ('What do we know about virus genetics, origin, and evolution?', 'genetics origin evolution'),\n",
    "        ('What has been published about ethical and social science considerations','ethics ethical social'),\n",
    "        ('What do we know about diagnostics and surveillance?','diagnose diagnostic surveillance'),\n",
    "        ('What has been published about medical care?', 'medical care'),\n",
    "        ('What do we know about vaccines and therapeutics?', 'vaccines vaccine vaccinate therapeutic therapeutics')] \n",
    "tasks = pd.DataFrame(tasks, columns=['Task', 'Keywords'])"
   ]
  },
  {
   "cell_type": "markdown",
   "metadata": {
    "colab_type": "text",
    "id": "b_2xnawh_z98"
   },
   "source": [
    "#### Research papers for each task\n",
    "Here we add a dropdown that allows for selection of tasks and show the search results"
   ]
  },
  {
   "cell_type": "code",
   "execution_count": null,
   "metadata": {
    "colab": {
     "base_uri": "https://localhost:8080/",
     "height": 638,
     "referenced_widgets": [
      "b8a3e8293e6f4320bba1daba3be7be3d",
      "b4efed94a24a439a8694f3f0a488593e",
      "f1b50affced24423878211465d7a7a87",
      "69f781068f1e4fcfb8cc5a71f8486e63",
      "5a4ffac021a54cbd9ed5928d417a86ca",
      "f812bb34bc50426e9e116705969fde6f"
     ]
    },
    "colab_type": "code",
    "id": "cDtB9ggPFcMq",
    "outputId": "d65a702e-aa62-4f82-a63d-fd47bd9ebac0"
   },
   "outputs": [],
   "source": [
    "def show_task(Task):\n",
    "    print(Task)\n",
    "    keywords = tasks[tasks.Task == Task].Keywords.values[0]\n",
    "    search_results = bm25_index.search(keywords, n=200)\n",
    "    return search_results\n",
    "    \n",
    "results = interact(show_task, Task = tasks.Task.tolist());"
   ]
  },
  {
   "cell_type": "code",
   "execution_count": null,
   "metadata": {
    "colab": {},
    "colab_type": "code",
    "id": "6jLduttHn2P1"
   },
   "outputs": [],
   "source": []
  }
 ],
 "metadata": {
  "accelerator": "GPU",
  "colab": {
   "collapsed_sections": [],
   "name": "CORD19 - NLP Challenge",
   "provenance": []
  },
  "kernelspec": {
   "display_name": "Python 3",
   "language": "python",
   "name": "python3"
  },
  "language_info": {
   "codemirror_mode": {
    "name": "ipython",
    "version": 3
   },
   "file_extension": ".py",
   "mimetype": "text/x-python",
   "name": "python",
   "nbconvert_exporter": "python",
   "pygments_lexer": "ipython3",
   "version": "3.7.6"
  },
  "widgets": {
   "application/vnd.jupyter.widget-state+json": {
    "15c23c2c03104af2bd42a5dfc02d8686": {
     "model_module": "@jupyter-widgets/controls",
     "model_name": "TextModel",
     "state": {
      "_dom_classes": [],
      "_model_module": "@jupyter-widgets/controls",
      "_model_module_version": "1.5.0",
      "_model_name": "TextModel",
      "_view_count": null,
      "_view_module": "@jupyter-widgets/controls",
      "_view_module_version": "1.5.0",
      "_view_name": "TextView",
      "continuous_update": true,
      "description": "SearchTerms",
      "description_tooltip": null,
      "disabled": false,
      "layout": "IPY_MODEL_77a56e3eb5f045d393e7a468d717c994",
      "placeholder": "​",
      "style": "IPY_MODEL_7286b8badb294af9a397db67ecad89c8",
      "value": "ACE spike"
     }
    },
    "5a4ffac021a54cbd9ed5928d417a86ca": {
     "model_module": "@jupyter-widgets/controls",
     "model_name": "DescriptionStyleModel",
     "state": {
      "_model_module": "@jupyter-widgets/controls",
      "_model_module_version": "1.5.0",
      "_model_name": "DescriptionStyleModel",
      "_view_count": null,
      "_view_module": "@jupyter-widgets/base",
      "_view_module_version": "1.2.0",
      "_view_name": "StyleView",
      "description_width": ""
     }
    },
    "69f781068f1e4fcfb8cc5a71f8486e63": {
     "model_module": "@jupyter-widgets/output",
     "model_name": "OutputModel",
     "state": {
      "_dom_classes": [],
      "_model_module": "@jupyter-widgets/output",
      "_model_module_version": "1.0.0",
      "_model_name": "OutputModel",
      "_view_count": null,
      "_view_module": "@jupyter-widgets/output",
      "_view_module_version": "1.0.0",
      "_view_name": "OutputView",
      "layout": "IPY_MODEL_0ff7ba534e6942c7a5625874cc2666a1",
      "msg_id": "",
      "outputs": [
       {
        "metadata": {
         "tags": []
        },
        "output_type": "stream",
        "stream": "stdout",
        "text": "What is known about transmission, incubation, and environmental stability?\n"
       },
       {
        "metadata": {
         "tags": []
        },
        "output_type": "display_data",
        "text/html": "<div>\n<style scoped>\n    .dataframe tbody tr th:only-of-type {\n        vertical-align: middle;\n    }\n\n    .dataframe tbody tr th {\n        vertical-align: top;\n    }\n\n    .dataframe thead th {\n        text-align: right;\n    }\n</style>\n<table border=\"1\" class=\"dataframe\">\n  <thead>\n    <tr style=\"text-align: right;\">\n      <th></th>\n      <th>title</th>\n      <th>abstract</th>\n      <th>doi</th>\n      <th>authors</th>\n      <th>journal</th>\n      <th>publish_time</th>\n      <th>Score</th>\n    </tr>\n  </thead>\n  <tbody>\n    <tr>\n      <th>0</th>\n      <td>Revisión sobre las infecciones no bacterianas ...</td>\n      <td>Resumen Aunque las bacterias son los principal...</td>\n      <td>10.1016/j.arbres.2015.02.015</td>\n      <td>Galván, José María; Rajas, Olga; Aspa, Javier</td>\n      <td>Archivos de Bronconeumología</td>\n      <td>2015-11-30</td>\n      <td>256.904116</td>\n    </tr>\n    <tr>\n      <th>1</th>\n      <td>The 12th Edition of the Scientific Days of the...</td>\n      <td>A1 The outcome of patients with recurrent vers...</td>\n      <td>10.1186/s12879-016-1877-4</td>\n      <td>Niculae, Cristian-Mihail; Manea, Eliza; Jipa, ...</td>\n      <td>BMC Infect Dis</td>\n      <td>2016 Nov 1</td>\n      <td>256.888407</td>\n    </tr>\n    <tr>\n      <th>2</th>\n      <td>Influence of different glycoproteins and of th...</td>\n      <td>Host plasma membrane protein SERINC5 is incorp...</td>\n      <td>10.1101/780577</td>\n      <td>Diehl, W. E.; Guney, M. H.; Kyawe, P. P.; Whit...</td>\n      <td>NaN</td>\n      <td>2019-09-24</td>\n      <td>256.872104</td>\n    </tr>\n    <tr>\n      <th>3</th>\n      <td>Coronavirus immunogens</td>\n      <td>Abstract Coronaviruses (CV) infect a variety o...</td>\n      <td>10.1016/0378-1135(93)90030-B</td>\n      <td>Saif, Linda J.</td>\n      <td>Veterinary Microbiology</td>\n      <td>1993-11-30</td>\n      <td>256.812236</td>\n    </tr>\n    <tr>\n      <th>4</th>\n      <td>Sources et devenir des micro-organismes pathog...</td>\n      <td>Résumé Un grand nombre d’infections humaines d...</td>\n      <td>10.1016/S1773-035X(14)72362-7</td>\n      <td>Baudart, Julia; Paniel, Nathalie</td>\n      <td>Revue Francophone des Laboratoires</td>\n      <td>2014-02-28</td>\n      <td>256.795673</td>\n    </tr>\n    <tr>\n      <th>...</th>\n      <td>...</td>\n      <td>...</td>\n      <td>...</td>\n      <td>...</td>\n      <td>...</td>\n      <td>...</td>\n      <td>...</td>\n    </tr>\n    <tr>\n      <th>195</th>\n      <td>Apport de la biologie moléculaire dans l’ident...</td>\n      <td>Résumé Les débuts de la virologie furent longs...</td>\n      <td>10.1016/S1773-035X(09)70307-7</td>\n      <td>Borde, Chloé; Maréchal, Vincent; Barnay-Verdie...</td>\n      <td>Revue Francophone des Laboratoires</td>\n      <td>2009-12-31</td>\n      <td>256.198831</td>\n    </tr>\n    <tr>\n      <th>196</th>\n      <td>Progress towards a higher taxonomy of viruses</td>\n      <td>Summary The current consensus view is that a h...</td>\n      <td>10.1016/S0923-2516(06)80059-2</td>\n      <td>Ward, C.W.</td>\n      <td>Research in Virology</td>\n      <td>1993-12-31</td>\n      <td>256.198763</td>\n    </tr>\n    <tr>\n      <th>197</th>\n      <td>Identification and Characterization of a Ribos...</td>\n      <td>The order Nidovirales currently comprises four...</td>\n      <td>10.1128/JVI.00658-16</td>\n      <td>Zeng, Cong; Wu, Andong; Wang, Yi; Xu, Shan; Ta...</td>\n      <td>NaN</td>\n      <td>NaN</td>\n      <td>256.198509</td>\n    </tr>\n    <tr>\n      <th>198</th>\n      <td>In vitro antimicrobial activities of animal-us...</td>\n      <td>BACKGROUND: The quinoxaline 1,4-di-N-oxides (Q...</td>\n      <td>10.1186/s12917-016-0812-7</td>\n      <td>Zhao, Yan; Cheng, Guyue; Hao, Haihong; Pan, Yu...</td>\n      <td>BMC Vet Res</td>\n      <td>2016 Sep 6</td>\n      <td>256.198353</td>\n    </tr>\n    <tr>\n      <th>199</th>\n      <td>Indoor air pollution and exposure assessment o...</td>\n      <td>Abstract Indoor air pollution is one of the hu...</td>\n      <td>10.1016/j.envint.2018.09.043</td>\n      <td>Amoatey, Patrick; Omidvarborna, Hamid; Baawain...</td>\n      <td>Environment International</td>\n      <td>2018-12-31</td>\n      <td>256.198131</td>\n    </tr>\n  </tbody>\n</table>\n<p>200 rows × 7 columns</p>\n</div>",
        "text/plain": "<__main__.SearchResults at 0x7ff6166ddac8>"
       }
      ]
     }
    },
    "7286b8badb294af9a397db67ecad89c8": {
     "model_module": "@jupyter-widgets/controls",
     "model_name": "DescriptionStyleModel",
     "state": {
      "_model_module": "@jupyter-widgets/controls",
      "_model_module_version": "1.5.0",
      "_model_name": "DescriptionStyleModel",
      "_view_count": null,
      "_view_module": "@jupyter-widgets/base",
      "_view_module_version": "1.2.0",
      "_view_name": "StyleView",
      "description_width": ""
     }
    },
    "77a56e3eb5f045d393e7a468d717c994": {
     "model_module": "@jupyter-widgets/base",
     "model_name": "LayoutModel",
     "state": {
      "_model_module": "@jupyter-widgets/base",
      "_model_module_version": "1.2.0",
      "_model_name": "LayoutModel",
      "_view_count": null,
      "_view_module": "@jupyter-widgets/base",
      "_view_module_version": "1.2.0",
      "_view_name": "LayoutView",
      "align_content": null,
      "align_items": null,
      "align_self": null,
      "border": null,
      "bottom": null,
      "display": null,
      "flex": null,
      "flex_flow": null,
      "grid_area": null,
      "grid_auto_columns": null,
      "grid_auto_flow": null,
      "grid_auto_rows": null,
      "grid_column": null,
      "grid_gap": null,
      "grid_row": null,
      "grid_template_areas": null,
      "grid_template_columns": null,
      "grid_template_rows": null,
      "height": null,
      "justify_content": null,
      "justify_items": null,
      "left": null,
      "margin": null,
      "max_height": null,
      "max_width": null,
      "min_height": null,
      "min_width": null,
      "object_fit": null,
      "object_position": null,
      "order": null,
      "overflow": null,
      "overflow_x": null,
      "overflow_y": null,
      "padding": null,
      "right": null,
      "top": null,
      "visibility": null,
      "width": null
     }
    },
    "7be1d3d15f5b4e9d9ee2b4f9223da84f": {
     "model_module": "@jupyter-widgets/controls",
     "model_name": "VBoxModel",
     "state": {
      "_dom_classes": [
       "widget-interact"
      ],
      "_model_module": "@jupyter-widgets/controls",
      "_model_module_version": "1.5.0",
      "_model_name": "VBoxModel",
      "_view_count": null,
      "_view_module": "@jupyter-widgets/controls",
      "_view_module_version": "1.5.0",
      "_view_name": "VBoxView",
      "box_style": "",
      "children": [
       "IPY_MODEL_15c23c2c03104af2bd42a5dfc02d8686",
       "IPY_MODEL_ca3c430cd1bc40019f3865dd45692bbe"
      ],
      "layout": "IPY_MODEL_cccc4bd597f34b049df91a08b9669379"
     }
    },
    "b4efed94a24a439a8694f3f0a488593e": {
     "model_module": "@jupyter-widgets/base",
     "model_name": "LayoutModel",
     "state": {
      "_model_module": "@jupyter-widgets/base",
      "_model_module_version": "1.2.0",
      "_model_name": "LayoutModel",
      "_view_count": null,
      "_view_module": "@jupyter-widgets/base",
      "_view_module_version": "1.2.0",
      "_view_name": "LayoutView",
      "align_content": null,
      "align_items": null,
      "align_self": null,
      "border": null,
      "bottom": null,
      "display": null,
      "flex": null,
      "flex_flow": null,
      "grid_area": null,
      "grid_auto_columns": null,
      "grid_auto_flow": null,
      "grid_auto_rows": null,
      "grid_column": null,
      "grid_gap": null,
      "grid_row": null,
      "grid_template_areas": null,
      "grid_template_columns": null,
      "grid_template_rows": null,
      "height": null,
      "justify_content": null,
      "justify_items": null,
      "left": null,
      "margin": null,
      "max_height": null,
      "max_width": null,
      "min_height": null,
      "min_width": null,
      "object_fit": null,
      "object_position": null,
      "order": null,
      "overflow": null,
      "overflow_x": null,
      "overflow_y": null,
      "padding": null,
      "right": null,
      "top": null,
      "visibility": null,
      "width": null
     }
    },
    "b8a3e8293e6f4320bba1daba3be7be3d": {
     "model_module": "@jupyter-widgets/controls",
     "model_name": "VBoxModel",
     "state": {
      "_dom_classes": [
       "widget-interact"
      ],
      "_model_module": "@jupyter-widgets/controls",
      "_model_module_version": "1.5.0",
      "_model_name": "VBoxModel",
      "_view_count": null,
      "_view_module": "@jupyter-widgets/controls",
      "_view_module_version": "1.5.0",
      "_view_name": "VBoxView",
      "box_style": "",
      "children": [
       "IPY_MODEL_f1b50affced24423878211465d7a7a87",
       "IPY_MODEL_69f781068f1e4fcfb8cc5a71f8486e63"
      ],
      "layout": "IPY_MODEL_b4efed94a24a439a8694f3f0a488593e"
     }
    },
    "ca3c430cd1bc40019f3865dd45692bbe": {
     "model_module": "@jupyter-widgets/output",
     "model_name": "OutputModel",
     "state": {
      "_dom_classes": [],
      "_model_module": "@jupyter-widgets/output",
      "_model_module_version": "1.0.0",
      "_model_name": "OutputModel",
      "_view_count": null,
      "_view_module": "@jupyter-widgets/output",
      "_view_module_version": "1.0.0",
      "_view_name": "OutputView",
      "layout": "IPY_MODEL_6b65aa7979be4d45a129689a4ae65814",
      "msg_id": "",
      "outputs": [
       {
        "metadata": {
         "tags": []
        },
        "output_type": "display_data",
        "text/html": "<div>\n<style scoped>\n    .dataframe tbody tr th:only-of-type {\n        vertical-align: middle;\n    }\n\n    .dataframe tbody tr th {\n        vertical-align: top;\n    }\n\n    .dataframe thead th {\n        text-align: right;\n    }\n</style>\n<table border=\"1\" class=\"dataframe\">\n  <thead>\n    <tr style=\"text-align: right;\">\n      <th></th>\n      <th>title</th>\n      <th>abstract</th>\n      <th>doi</th>\n      <th>authors</th>\n      <th>journal</th>\n      <th>publish_time</th>\n      <th>Score</th>\n    </tr>\n  </thead>\n  <tbody>\n    <tr>\n      <th>0</th>\n      <td>36th International Symposium on Intensive Care...</td>\n      <td>P001 - Sepsis impairs the capillary response w...</td>\n      <td>10.1186/s13054-016-1208-6</td>\n      <td>Bateman, R. M.; Sharpe, M. D.; Jagger, J. E.; ...</td>\n      <td>Crit Care</td>\n      <td>2016 Apr 20</td>\n      <td>48.897161</td>\n    </tr>\n    <tr>\n      <th>1</th>\n      <td>XXIV World Allergy Congress 2015: Seoul, Korea...</td>\n      <td>A1 Pirfenidone inhibits TGF-b1-induced extrace...</td>\n      <td>10.1186/s40413-016-0096-1</td>\n      <td>Lee, Heung-Man; Park, Il-Ho; Shin, Jae-Min; Yo...</td>\n      <td>World Allergy Organ J</td>\n      <td>2016 Apr 19</td>\n      <td>48.850667</td>\n    </tr>\n    <tr>\n      <th>2</th>\n      <td>Both ERK1 and ERK2 Are Required for Enteroviru...</td>\n      <td>It has been demonstrated that MEK1, one of the...</td>\n      <td>10.3390/v7031344</td>\n      <td>Zhu, Meng; Duan, Hao; Gao, Meng; Zhang, Hao; P...</td>\n      <td>Viruses</td>\n      <td>2015 Mar 20</td>\n      <td>48.841823</td>\n    </tr>\n    <tr>\n      <th>3</th>\n      <td>Activation of TORC1 Transcriptional Coactivato...</td>\n      <td>CREB is a prototypic bZIP transcription factor...</td>\n      <td>10.1091/mbc.E08-04-0369</td>\n      <td>Siu, Yeung-Tung; Ching, Yick-Pang; Jin, Dong-Yan</td>\n      <td>NaN</td>\n      <td>NaN</td>\n      <td>48.837021</td>\n    </tr>\n    <tr>\n      <th>4</th>\n      <td>Decoying the cap- mRNA degradation system by a...</td>\n      <td>The major coat protein of the L-A double-stran...</td>\n      <td>NaN</td>\n      <td>Masison, D C; Blanc, A; Ribas, J C; Carroll, K...</td>\n      <td>NaN</td>\n      <td>NaN</td>\n      <td>48.809539</td>\n    </tr>\n    <tr>\n      <th>...</th>\n      <td>...</td>\n      <td>...</td>\n      <td>...</td>\n      <td>...</td>\n      <td>...</td>\n      <td>...</td>\n      <td>...</td>\n    </tr>\n    <tr>\n      <th>195</th>\n      <td>Phosphatidylinositol 4-Kinase IIIβ Is Required...</td>\n      <td>Phosphatidylinositol kinases (PI kinases) play...</td>\n      <td>10.1074/jbc.M111.312561</td>\n      <td>Yang, Ning; Ma, Ping; Lang, Jianshe; Zhang, Ya...</td>\n      <td>NaN</td>\n      <td>NaN</td>\n      <td>48.482152</td>\n    </tr>\n    <tr>\n      <th>196</th>\n      <td>Novel genotype of infectious bronchitis virus ...</td>\n      <td>Abstract Recombination events are known to con...</td>\n      <td>10.1016/j.vetmic.2019.01.020</td>\n      <td>Ma, Tianxin; Xu, Liwen; Ren, Mengting; Shen, J...</td>\n      <td>Veterinary Microbiology</td>\n      <td>2019-03-31</td>\n      <td>48.482058</td>\n    </tr>\n    <tr>\n      <th>197</th>\n      <td>IκB kinase ɛ (IKKɛ): A therapeutic target in i...</td>\n      <td>Abstract The innate immune system forms our fi...</td>\n      <td>10.1016/j.bcp.2013.01.007</td>\n      <td>Verhelst, Kelly; Verstrepen, Lynn; Carpentier,...</td>\n      <td>Biochemical Pharmacology</td>\n      <td>2013-04-01</td>\n      <td>48.481654</td>\n    </tr>\n    <tr>\n      <th>198</th>\n      <td>An educational programme for nursing college s...</td>\n      <td>BACKGROUND: The Middle Eastern Respiratory Syn...</td>\n      <td>10.1186/s12912-015-0065-y</td>\n      <td>Stirling, Bridget V; Harmston, Jennie; Alsobay...</td>\n      <td>BMC Nurs</td>\n      <td>2015 Apr 16</td>\n      <td>48.481506</td>\n    </tr>\n    <tr>\n      <th>199</th>\n      <td>Chapter 19 Species Inquirendae in the Carnivora</td>\n      <td>Abstract There are at least 483 reports of car...</td>\n      <td>10.1016/B978-0-12-811349-3.00019-0</td>\n      <td>Duszynski, Donald W.; Kvičerová, Jana; Seville...</td>\n      <td>The Biology and Identification of the Coccidia...</td>\n      <td>2018-12-31</td>\n      <td>48.481080</td>\n    </tr>\n  </tbody>\n</table>\n<p>200 rows × 7 columns</p>\n</div>",
        "text/plain": "<__main__.SearchResults at 0x7ff614db45c0>"
       }
      ]
     }
    },
    "cccc4bd597f34b049df91a08b9669379": {
     "model_module": "@jupyter-widgets/base",
     "model_name": "LayoutModel",
     "state": {
      "_model_module": "@jupyter-widgets/base",
      "_model_module_version": "1.2.0",
      "_model_name": "LayoutModel",
      "_view_count": null,
      "_view_module": "@jupyter-widgets/base",
      "_view_module_version": "1.2.0",
      "_view_name": "LayoutView",
      "align_content": null,
      "align_items": null,
      "align_self": null,
      "border": null,
      "bottom": null,
      "display": null,
      "flex": null,
      "flex_flow": null,
      "grid_area": null,
      "grid_auto_columns": null,
      "grid_auto_flow": null,
      "grid_auto_rows": null,
      "grid_column": null,
      "grid_gap": null,
      "grid_row": null,
      "grid_template_areas": null,
      "grid_template_columns": null,
      "grid_template_rows": null,
      "height": null,
      "justify_content": null,
      "justify_items": null,
      "left": null,
      "margin": null,
      "max_height": null,
      "max_width": null,
      "min_height": null,
      "min_width": null,
      "object_fit": null,
      "object_position": null,
      "order": null,
      "overflow": null,
      "overflow_x": null,
      "overflow_y": null,
      "padding": null,
      "right": null,
      "top": null,
      "visibility": null,
      "width": null
     }
    },
    "f1b50affced24423878211465d7a7a87": {
     "model_module": "@jupyter-widgets/controls",
     "model_name": "DropdownModel",
     "state": {
      "_dom_classes": [],
      "_model_module": "@jupyter-widgets/controls",
      "_model_module_version": "1.5.0",
      "_model_name": "DropdownModel",
      "_options_labels": [
       "What is known about transmission, incubation, and environmental stability?",
       "What do we know about COVID-19 risk factors?",
       "What do we know about virus genetics, origin, and evolution?",
       "What has been published about ethical and social science considerations",
       "What do we know about diagnostics and surveillance?",
       "What has been published about medical care?",
       "What do we know about vaccines and therapeutics?"
      ],
      "_view_count": null,
      "_view_module": "@jupyter-widgets/controls",
      "_view_module_version": "1.5.0",
      "_view_name": "DropdownView",
      "description": "Task",
      "description_tooltip": null,
      "disabled": false,
      "index": 0,
      "layout": "IPY_MODEL_f812bb34bc50426e9e116705969fde6f",
      "style": "IPY_MODEL_5a4ffac021a54cbd9ed5928d417a86ca"
     }
    },
    "f812bb34bc50426e9e116705969fde6f": {
     "model_module": "@jupyter-widgets/base",
     "model_name": "LayoutModel",
     "state": {
      "_model_module": "@jupyter-widgets/base",
      "_model_module_version": "1.2.0",
      "_model_name": "LayoutModel",
      "_view_count": null,
      "_view_module": "@jupyter-widgets/base",
      "_view_module_version": "1.2.0",
      "_view_name": "LayoutView",
      "align_content": null,
      "align_items": null,
      "align_self": null,
      "border": null,
      "bottom": null,
      "display": null,
      "flex": null,
      "flex_flow": null,
      "grid_area": null,
      "grid_auto_columns": null,
      "grid_auto_flow": null,
      "grid_auto_rows": null,
      "grid_column": null,
      "grid_gap": null,
      "grid_row": null,
      "grid_template_areas": null,
      "grid_template_columns": null,
      "grid_template_rows": null,
      "height": null,
      "justify_content": null,
      "justify_items": null,
      "left": null,
      "margin": null,
      "max_height": null,
      "max_width": null,
      "min_height": null,
      "min_width": null,
      "object_fit": null,
      "object_position": null,
      "order": null,
      "overflow": null,
      "overflow_x": null,
      "overflow_y": null,
      "padding": null,
      "right": null,
      "top": null,
      "visibility": null,
      "width": null
     }
    }
   }
  }
 },
 "nbformat": 4,
 "nbformat_minor": 1
}
